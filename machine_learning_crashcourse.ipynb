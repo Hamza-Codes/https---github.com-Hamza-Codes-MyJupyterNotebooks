{
 "cells": [
  {
   "cell_type": "markdown",
   "metadata": {},
   "source": [
    "# <span style=\"color:#BDD358\"> Day - 15 Machine Leaning (ML-101) - Crash Course </span>"
   ]
  },
  {
   "cell_type": "markdown",
   "metadata": {},
   "source": [
    "Machine learning (ML) is a type of artificial intelligence (AI) that allows software applications to become more accurate at predicting outcomes without being explicitly programmed to do so. Machine learning algorithms use historical data as input to predict new output values.\n",
    "\n",
    "Machine learning is the study of computer algorithms that can improve automatically through experience and by the use of data. It is seen as a part of artificial intelligence.\n",
    "\n",
    "---\n",
    "\n",
    "### <span style=\"color:#5BC0BE\"> Difference among Artificial Intelligence (AI), Machine Learning (ML) and Deep Learning (DL)</span>\n",
    "\n",
    "Artificial intelligence (AI) and machine learning (ML) are often used interchangeably, but machine learning is a subset of the broader category of AI.\n",
    "\n",
    "Artificial Intelligence (AI) | Machine Learning (ML) | Deep Learning (DL) |\n",
    "---------------------------- | --------------------- | ------------------ |\n",
    "Artificial intelligence refers to the general ability of computers to emulate human thought and perform tasks in real-world environments. Artificial intelligence is basically telling computers to do a task based on a specific input. For example, printing \"You are young\" based on the input age of a user.| An application of artificial intelligence that includes algorithms that parse data, learn from that data, and then apply what they’ve learned to make informed decisions. Machine learning refers to the technologies and algorithms that enable systems to identify patterns, make decisions, and improve themselves through experience and data. ML is basically doing the same thing but based on data rather than user input. Everyone under the age of 40 is considered young, for example. ML detects the patterns on its own without us telling it explicitly and predicts the output. This is a data driven approach. | All deep learning is machine learning, but not all machine learning is deep learning. A deep learning model is designed to continually analyze data with a logical structure similar to how a human would draw conclusions. To complete this analysis, deep learning applications use a layered structure of algorithms called an artificial neural network. Deep learning is considered an evolution of machine learning. It uses a programmable neural network that enables machines to make accurate decisions without help from humans.\n",
    "\n",
    "![infographic for AI, ML and DL](https://miro.medium.com/max/1060/0*R53mzDRJXZ8l6idL)\n",
    "\n",
    "![infographic for AI, ML and DL](https://miro.medium.com/max/1400/0*jng0i9svVVe7L7sj)\n",
    "\n",
    "![infographic for AI, ML and DL](https://miro.medium.com/max/1400/1*c9STAwkoSwbSSNbzNotk4g.jpeg)\n",
    "\n"
   ]
  },
  {
   "cell_type": "markdown",
   "metadata": {},
   "source": [
    "### <span style=\"color:#728FA9\">Hot Areas of Machine Learning</span>\n",
    "\n",
    "1. Retail - client intelligence, marketting, HR, finance, fraud detection, anamolies detection\n",
    "2. Travel\n",
    "3. Transport and Logistics\n",
    "4. Automative Assembly\n",
    "5. Basic Materials\n",
    "6. Advance Electronics/Semiconductors\n",
    "7. Healthcare Systems and Services\n",
    "8. High tech\n",
    "9. Telecom\n",
    "10. Oil and Gas\n",
    "11. Agriculture\n",
    "\n",
    "### <span style=\"color:#728FA9\">Data Science vs Machine Learning (ML)</span>\n",
    "\n",
    "Data science is the field that studies data and how to extract meaning from it while machine learning focuses on tools and techniques for building models that can learn by themselves by using data.\n",
    "\n",
    "Provide both the inputs and the desired outputs to a machine learning model so that it learns the correlation between the inputs and outpus and can predict future happenings based on future data. So, basically there are three setps in any machine learning project:\n",
    "\n",
    "1. Data is fed. The desired output is aslo determined.\n",
    "2. Then the model is trained.\n",
    "3. Real-time testing by giving it inputs that were not given before (unseen) and expecting it give appropriate results or near to real output.\n",
    "\n",
    "\n",
    "### <span style=\"color:#728FA9\">Let's play a game</span>\n",
    "\n",
    "Let's predict the output (Y) at the end based on the given data and pattern.\n",
    "\n",
    "Input(X) | Output(Y) |\n",
    "---------|----------|\n",
    " 2 | 5 |\n",
    " 3 | 7 |\n",
    " 4 | 9 |\n",
    " 6 | ? |\n",
    "\n",
    "```\n",
    "Y = 2X + 1\n",
    "\n",
    "6+6+1 = 13\n",
    "```\n",
    "\n",
    "This equation is basically the model and can work with any unseen data because of the past data.\n",
    "\n",
    "### <span style=\"color:#728FA9\">Understanding how Deep Learning works</span>\n",
    "\n",
    "- Convert the above ``` Y = 2X + 1``` equation into a more general form like ``` Y = WX + B ```\n",
    "- The values of ```X``` and ```Y``` are already given in the data.\n",
    "- So, we only need to make our model learn ```W``` and ```B```, where ```W``` is the Weights and ```B``` is Biasing.\n",
    "\n",
    "Computers cannot actually calculate the values of ```W``` and ```B``` at once. Instead, it assumes dummy values for these variables.\n",
    "For example, if the computer assumes ```W = 1``` and ```B = 0.5```, then the equation becomes ```Y = 1X + 0.5``` and the output will be:\n",
    "\n",
    "\n",
    "Input(X) | Output(Y) | Predicted output (Y') | Difference (Loss) |\n",
    "---------|------------| ---------------------| ------------------ |\n",
    "2        |   5        |       2.5            |         2.5\n",
    "3        |   7        |       3.5            |         3.5\n",
    "4        |   9        |       4.5            |         4.5\n",
    "6        |   13       |       6.5            |         6.5       \n",
    "\n",
    "                                            Total Loss = 17\n",
    "\n",
    "Since the model predicted the wrong output, it will re-evaluate ```W``` and ```B```. The loss should be minimum or zero.\n",
    "\n",
    "---\n",
    "\n",
    "### <span style=\"color:#728FA9\">Improving the Model </span>\n",
    "\n",
    "Now For example, if the computer assumes ```W = 2``` and ```B = 0.5```, then the equation becomes ```Y = 2X + 0.5``` and the output will be:\n",
    "\n",
    "Input(X) | Output(Y) | Predicted output (Y') | Difference (Loss) |\n",
    "---------|------------| ---------------------| ------------------ |\n",
    "2        |   5        |       4.5            |         0.5\n",
    "3        |   7        |       6.5            |         0.5\n",
    "4        |   9        |       8.5            |         0.5\n",
    "6        |   13       |      12.5            |         0.5       \n",
    "\n",
    "                                            Total Loss = 2\n",
    "\n",
    "So now the model thinks that increasing the weights (W) reduces the error/loss.\n",
    "\n",
    "---\n",
    "\n",
    "if the computer assumes ```W = 2``` and ```B = 1.5```, then the equation becomes ```Y = 2X + 1.5``` and the output will be:\n",
    "\n",
    "Input(X) | Output(Y) | Predicted output (Y') | Difference (Loss) |\n",
    "---------|------------| ---------------------| ------------------ |\n",
    "2        |   5        |       5.5            |         -0.5\n",
    "3        |   7        |       7.5            |         -0.5\n",
    "4        |   9        |       9.5            |         -0.5\n",
    "6        |   13       |      13.5            |         -0.5       \n",
    "\n",
    "                                            Total Loss = -2\n",
    "\n",
    "The loss or difference should have been zero but it went into the negative. So, the model thinks that maybe the weights or bias is not yet right. So, it re-adjusts it. \n",
    "\n",
    "---\n",
    "\n",
    "if the computer assumes ```W = 2``` and ```B = 1```, then the equation becomes ```Y = 2X + 1``` and the output will be:\n",
    "\n",
    "Input(X) | Output(Y) | Predicted output (Y') | Difference (Loss) |\n",
    "---------|------------| ---------------------| ------------------ |\n",
    "2        |   5        |       5            |         0\n",
    "3        |   7        |       7            |         0\n",
    "4        |   9        |       9            |         0\n",
    "6        |   13       |      13            |         0       \n",
    "\n",
    "                                            Total Loss = 0\n",
    "\n",
    "The solution is basically caluclated on __Hit and Trail__ method. When the difference between predicted and real becomes zero, that is the solution point.\n",
    "\n",
    "It is important to note that we don't have do all this __Hit and Trail__ method ourselves, rather we will select an algorithm that can do the job for us."
   ]
  },
  {
   "cell_type": "markdown",
   "metadata": {},
   "source": [
    "## <span style=\"color:#BDD358\"> Machine Learning: Simple Linear Regression with Python </span>\n",
    "\n",
    "First, let’s say that you are shopping at Walmart. Whether you buy goods or not, you have to pay $2.00 for parking ticket. Each apple price $1.5, and you have to buy an (x) item of apple. Then we can populate a price list as below:\n",
    "\n",
    "\n",
    "Quantity| Price |\n",
    "---------|----------|\n",
    " 1  | $ 3.50 |\n",
    " 2  | $ 5.00 |\n",
    " 3  | $ 6.50 |\n",
    " 4  | $ 8.00 |\n",
    " 5  | $ 9.50 |\n",
    " ...|  ...   |\n",
    " 10 | $ 17.00|\n",
    " 11 | $ 18.50|\n",
    " ...| ...    |\n",
    " Y  |  Y     |\n",
    " \n",
    " It’s easy to predict (or calculate) the Price based on Value and vice versa using the equation of ``` y=2+1.5x ``` for this example or:\n",
    "\n",
    "```y = a + bx``` is the more general equation. ```y``` is the dependant variable and ```x``` is the independant variable. \n",
    "\n",
    "This is also the equation for a straight line with ```a``` being the constant term or the ```y``` intercept, whereas ```b``` is the coefficient of the independant variable. It is also known as the slope of the line and gives the rate of change of the independant variable."
   ]
  },
  {
   "cell_type": "code",
   "execution_count": 9,
   "metadata": {},
   "outputs": [
    {
     "data": {
      "text/plain": [
       "Text(0, 0.5, 'Price ($) ')"
      ]
     },
     "execution_count": 9,
     "metadata": {},
     "output_type": "execute_result"
    },
    {
     "data": {
      "image/png": "[encoded data removed]",
      "text/plain": [
       "<Figure size 432x288 with 1 Axes>"
      ]
     },
     "metadata": {
      "needs_background": "light"
     },
     "output_type": "display_data"
    }
   ],
   "source": [
    "# Drawing a simple 2D graph based on the data given above.\n",
    "\n",
    "import matplotlib.pyplot as plt\n",
    "plt.plot([1,2,3,4,5,10,11],[3.50,5.00,6.50,8.00,9.50,17.00,18.50])\n",
    "plt.xlabel(\"Quantity\")\n",
    "plt.ylabel(\"Price ($) \")"
   ]
  },
  {
   "cell_type": "markdown",
   "metadata": {},
   "source": [
    "After plotting all value of the shopping cost (in blue line), you can see, they all are in one line, that’s why we call it linear. With the equation of linear ```y = a + bx```, the ```a``` is an independent variable. Even if ```a = 0``` (you have no need to pay for the parking ticket), the Shopping Cost line will shift down and they are still in a line (orange line).\n",
    "\n",
    "Quantity| Shopping Cost with Parking Ticket | Shopping Cost without Parking Ticket|\n",
    "---------|----------| ------- |\n",
    " 1  | $ 3.50 | $ 1.50|\n",
    " 2  | $ 5.00 | $ 3.00|\n",
    " 3  | $ 6.50 | $ 4.50|\n",
    " 4  | $ 8.00 | $ 6.00|\n",
    " 5  | $ 9.50 | $ 7.50|\n",
    " ...|  ...   |  ...\n",
    " 10 | $ 17.00| $ 15.00|\n",
    " 11 | $ 18.50| $ 16.50|\n",
    " ...| ...    |  ...   |\n",
    " Y  |  Y     |   Z    | "
   ]
  },
  {
   "cell_type": "code",
   "execution_count": 8,
   "metadata": {},
   "outputs": [
    {
     "data": {
      "text/plain": [
       "[<matplotlib.lines.Line2D at 0x7fddb9108ee0>,\n",
       " <matplotlib.lines.Line2D at 0x7fddb9108f10>]"
      ]
     },
     "execution_count": 8,
     "metadata": {},
     "output_type": "execute_result"
    },
    {
     "data": {
      "image/png": "[encoded data removed]",
      "text/plain": [
       "<Figure size 432x288 with 1 Axes>"
      ]
     },
     "metadata": {
      "needs_background": "light"
     },
     "output_type": "display_data"
    }
   ],
   "source": [
    "plt.plot([1,2,3,4,5,10,11],[3.50,5.00,6.50,8.00,9.50,17.00,18.50],\n",
    "             [1,2,3,4,5,10,11], [1.50,3.00,4.50,6.00,7.50,15.00,16.50])"
   ]
  },
  {
   "cell_type": "markdown",
   "metadata": {},
   "source": [
    "But in real life, things are not that simple!\n",
    "\n",
    "Let’s take another example, in AB Company, there is a salary distribution table based on Year of Experience as per below:\n",
    "\n",
    "![image](https://miro.medium.com/max/526/1*g5JCA1qiprxNhAyA9IhO7A.png)\n",
    "\n",
    "“The scenario is you are a HR officer, you got a candidate with 5 years of experience. Then what is the best salary you should offer to him?”\n",
    "\n",
    "Before deep dive into this problem, let’s plot the data set into the plot first:\n",
    "\n",
    "![image](https://miro.medium.com/max/1400/1*BU2zrxl3E1o3_xiVNU-fdw.png)\n",
    "\n",
    "Please look at this chart carefully. Now we have a bad news: all the observations are not in a line. It means we cannot find out the equation to calculate the (y) value.\n",
    "\n",
    "So what now? Don’t worry, we have a good news for you!\n",
    "Look at the Scatter Plot again before scrolling down. Do you see it?\n",
    "\n",
    "\n",
    "All the points is not in a line BUT they are in a line-shape! It’s __linear!__\n",
    "\n",
    "![image](https://miro.medium.com/max/1400/1*5ZOxDGtFsewBEve9FG5DQQ.png)\n",
    "\n",
    "Based on our observation, we can guess that the salary range of 5 Years Experience should be in the red range. Of course, we can offer to our candidate any number in that red range. But how to pick the best number for him? It’s time to use Machine Learning to predict the best salary for our candidate.\n",
    "\n",
    "### Training and Testing the Data\n",
    "\n",
    "Dataset is always broken up into two pieces. \n",
    "\n",
    "1. Traning Dataset - to train the ML model \n",
    "2. Testing Dataset - to test the ML model. Also called unseen or real data.\n",
    "\n",
    "The two datasets are different because we want to see how accurate the model is with new unseen data. This technique is also used to test the credibility and transparency of our model"
   ]
  },
  {
   "cell_type": "markdown",
   "metadata": {},
   "source": []
  }
 ],
 "metadata": {
  "interpreter": {
   "hash": "31f2aee4e71d21fbe5cf8b01ff0e069b9275f58929596ceb00d14d90e3e16cd6"
  },
  "kernelspec": {
   "display_name": "Python 3.8.9 64-bit",
   "language": "python",
   "name": "python3"
  },
  "language_info": {
   "codemirror_mode": {
    "name": "ipython",
    "version": 3
   },
   "file_extension": ".py",
   "mimetype": "text/x-python",
   "name": "python",
   "nbconvert_exporter": "python",
   "pygments_lexer": "ipython3",
   "version": "3.9.7"
  },
  "orig_nbformat": 4
 },
 "nbformat": 4,
 "nbformat_minor": 2
}
