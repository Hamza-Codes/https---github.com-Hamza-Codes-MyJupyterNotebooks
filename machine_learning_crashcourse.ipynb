{
 "cells": [
  {
   "cell_type": "markdown",
   "metadata": {},
   "source": [
    "# <span style=\"color:#BDD358\"> Day - 15 Machine Leaning (ML-101) - Crash Course </span>"
   ]
  },
  {
   "cell_type": "markdown",
   "metadata": {},
   "source": [
    "Machine learning (ML) is a type of artificial intelligence (AI) that allows software applications to become more accurate at predicting outcomes without being explicitly programmed to do so. Machine learning algorithms use historical data as input to predict new output values.\n",
    "\n",
    "Machine learning is the study of computer algorithms that can improve automatically through experience and by the use of data. It is seen as a part of artificial intelligence.\n",
    "\n",
    "---\n",
    "\n",
    "### <span style=\"color:#5BC0BE\"> Difference among Artificial Intelligence (AI), Machine Learning (ML) and Deep Learning (DL)</span>\n",
    "\n",
    "Artificial intelligence (AI) and machine learning (ML) are often used interchangeably, but machine learning is a subset of the broader category of AI.\n",
    "\n",
    "Artificial Intelligence (AI) | Machine Learning (ML) | Deep Learning (DL) |\n",
    "---------------------------- | --------------------- | ------------------ |\n",
    "Artificial intelligence refers to the general ability of computers to emulate human thought and perform tasks in real-world environments. Artificial intelligence is basically telling computers to do a task based on a specific input. For example, printing \"You are young\" based on the input age of a user.| An application of artificial intelligence that includes algorithms that parse data, learn from that data, and then apply what they’ve learned to make informed decisions. Machine learning refers to the technologies and algorithms that enable systems to identify patterns, make decisions, and improve themselves through experience and data. ML is basically doing the same thing but based on data rather than user input. Everyone under the age of 40 is considered young, for example. ML detects the patterns on its own without us telling it explicitly and predicts the output. This is a data driven approach. | All deep learning is machine learning, but not all machine learning is deep learning. A deep learning model is designed to continually analyze data with a logical structure similar to how a human would draw conclusions. To complete this analysis, deep learning applications use a layered structure of algorithms called an artificial neural network. Deep learning is considered an evolution of machine learning. It uses a programmable neural network that enables machines to make accurate decisions without help from humans.\n",
    "\n",
    "![infographic for AI, ML and DL](https://miro.medium.com/max/1060/0*R53mzDRJXZ8l6idL)\n",
    "\n",
    "![infographic for AI, ML and DL](https://miro.medium.com/max/1400/0*jng0i9svVVe7L7sj)\n",
    "\n",
    "![infographic for AI, ML and DL](https://miro.medium.com/max/1400/1*c9STAwkoSwbSSNbzNotk4g.jpeg)\n",
    "\n"
   ]
  },
  {
   "cell_type": "markdown",
   "metadata": {},
   "source": [
    "### <span style=\"color:#728FA9\">Hot Areas of Machine Learning</span>\n",
    "\n",
    "1. Retail - client intelligence, marketting, HR, finance, fraud detection, anamolies detection\n",
    "2. Travel\n",
    "3. Transport and Logistics\n",
    "4. Automative Assembly\n",
    "5. Basic Materials\n",
    "6. Advance Electronics/Semiconductors\n",
    "7. Healthcare Systems and Services\n",
    "8. High tech\n",
    "9. Telecom\n",
    "10. Oil and Gas\n",
    "11. Agriculture\n",
    "\n",
    "### <span style=\"color:#728FA9\">Data Science vs Machine Learning (ML)</span>\n",
    "\n",
    "Data science is the field that studies data and how to extract meaning from it while machine learning focuses on tools and techniques for building models that can learn by themselves by using data.\n",
    "\n",
    "Provide both the inputs and the desired outputs to a machine learning model so that it learns the correlation between the inputs and outpus and can predict future happenings based on future data. So, basically there are three setps in any machine learning project:\n",
    "\n",
    "1. Data is fed. The desired output is aslo determined.\n",
    "2. Then the model is trained.\n",
    "3. Real-time testing by giving it inputs that were not given before (unseen) and expecting it give appropriate results or near to real output.\n",
    "\n",
    "\n",
    "### <span style=\"color:#728FA9\">Let's play a game</span>\n",
    "\n",
    "Let's predict the output (Y) at the end based on the given data and pattern.\n",
    "\n",
    "Input(X) | Output(Y) |\n",
    "---------|----------|\n",
    " 2 | 5 |\n",
    " 3 | 7 |\n",
    " 4 | 9 |\n",
    " 6 | ? |\n",
    "\n",
    "```\n",
    "Y = 2X + 1\n",
    "\n",
    "6+6+1 = 13\n",
    "```\n",
    "\n",
    "This equation is basically the model and can work with any unseen data because of the past data.\n",
    "\n",
    "### <span style=\"color:#728FA9\">Understanding how Deep Learning works</span>\n",
    "\n",
    "- Convert the above ``` Y = 2X + 1``` equation into a more general form like ``` Y = WX + B ```\n",
    "- The values of ```X``` and ```Y``` are already given in the data.\n",
    "- So, we only need to make our model learn ```W``` and ```B```, where ```W``` is the Weights and ```B``` is Biasing.\n",
    "\n",
    "Computers cannot actually calculate the values of ```W``` and ```B``` at once. Instead, it assumes dummy values for these variables.\n",
    "For example, if the computer assumes ```W = 1``` and ```B = 0.5```, then the equation becomes ```Y = 1X + 0.5``` and the output will be:\n",
    "\n",
    "\n",
    "Input(X) | Output(Y) | Predicted output (Y') | Difference (Loss) |\n",
    "---------|------------| ---------------------| ------------------ |\n",
    "2        |   5        |       2.5            |         2.5\n",
    "3        |   7        |       3.5            |         3.5\n",
    "4        |   9        |       4.5            |         4.5\n",
    "6        |   13       |       6.5            |         6.5       \n",
    "\n",
    "                                            Total Loss = 17\n",
    "\n",
    "Since the model predicted the wrong output, it will re-evaluate ```W``` and ```B```. The loss should be minimum or zero.\n",
    "\n",
    "---\n",
    "\n",
    "### <span style=\"color:#728FA9\">Improving the Model </span>\n",
    "\n",
    "Now For example, if the computer assumes ```W = 2``` and ```B = 0.5```, then the equation becomes ```Y = 2X + 0.5``` and the output will be:\n",
    "\n",
    "Input(X) | Output(Y) | Predicted output (Y') | Difference (Loss) |\n",
    "---------|------------| ---------------------| ------------------ |\n",
    "2        |   5        |       4.5            |         0.5\n",
    "3        |   7        |       6.5            |         0.5\n",
    "4        |   9        |       8.5            |         0.5\n",
    "6        |   13       |      12.5            |         0.5       \n",
    "\n",
    "                                            Total Loss = 2\n",
    "\n",
    "So now the model thinks that increasing the weights (W) reduces the error/loss.\n",
    "\n",
    "---\n",
    "\n",
    "if the computer assumes ```W = 2``` and ```B = 1.5```, then the equation becomes ```Y = 2X + 1.5``` and the output will be:\n",
    "\n",
    "Input(X) | Output(Y) | Predicted output (Y') | Difference (Loss) |\n",
    "---------|------------| ---------------------| ------------------ |\n",
    "2        |   5        |       5.5            |         -0.5\n",
    "3        |   7        |       7.5            |         -0.5\n",
    "4        |   9        |       9.5            |         -0.5\n",
    "6        |   13       |      13.5            |         -0.5       \n",
    "\n",
    "                                            Total Loss = -2\n",
    "\n",
    "The loss or difference should have been zero but it went into the negative. So, the model thinks that maybe the weights or bias is not yet right. So, it re-adjusts it. \n",
    "\n",
    "---\n",
    "\n",
    "if the computer assumes ```W = 2``` and ```B = 1```, then the equation becomes ```Y = 2X + 1``` and the output will be:\n",
    "\n",
    "Input(X) | Output(Y) | Predicted output (Y') | Difference (Loss) |\n",
    "---------|------------| ---------------------| ------------------ |\n",
    "2        |   5        |       5            |         0\n",
    "3        |   7        |       7            |         0\n",
    "4        |   9        |       9            |         0\n",
    "6        |   13       |      13            |         0       \n",
    "\n",
    "                                            Total Loss = 0\n",
    "\n",
    "The solution is basically caluclated on __Hit and Trail__ method. When the difference between predicted and real becomes zero, that is the solution point.\n",
    "\n",
    "It is important to note that we don't have do all this __Hit and Trail__ method ourselves, rather we will select an algorithm that can do the job for us."
   ]
  },
  {
   "cell_type": "markdown",
   "metadata": {},
   "source": [
    "## <span style=\"color:#BDD358\"> Machine Learning: Simple Linear Regression with Python </span>\n",
    "\n",
    "First, let’s say that you are shopping at Walmart. Whether you buy goods or not, you have to pay $2.00 for parking ticket. Each apple price $1.5, and you have to buy an (x) item of apple. Then we can populate a price list as below:\n",
    "\n",
    "\n",
    "Quantity| Price |\n",
    "---------|----------|\n",
    " 1  | $ 3.50 |\n",
    " 2  | $ 5.00 |\n",
    " 3  | $ 6.50 |\n",
    " 4  | $ 8.00 |\n",
    " 5  | $ 9.50 |\n",
    " ...|  ...   |\n",
    " 10 | $ 17.00|\n",
    " 11 | $ 18.50|\n",
    " ...| ...    |\n",
    " Y  |  Y     |\n",
    " \n",
    " It’s easy to predict (or calculate) the Price based on Value and vice versa using the equation of ``` y=2+1.5x ``` for this example or:\n",
    "\n",
    "```y = a + bx``` is the more general equation. ```y``` is the dependant variable and ```x``` is the independant variable. \n",
    "\n",
    "This is also the equation for a straight line with ```a``` being the constant term or the ```y``` intercept, whereas ```b``` is the coefficient of the independant variable. It is also known as the slope of the line and gives the rate of change of the independant variable."
   ]
  },
  {
   "cell_type": "code",
   "execution_count": 9,
   "metadata": {},
   "outputs": [
    {
     "data": {
      "text/plain": [
       "Text(0, 0.5, 'Price ($) ')"
      ]
     },
     "execution_count": 9,
     "metadata": {},
     "output_type": "execute_result"
    },
    {
     "data": {
      "image/png": "[encoded data removed]",
      "text/plain": [
       "<Figure size 432x288 with 1 Axes>"
      ]
     },
     "metadata": {
      "needs_background": "light"
     },
     "output_type": "display_data"
    }
   ],
   "source": [
    "# Drawing a simple 2D graph based on the data given above.\n",
    "\n",
    "import matplotlib.pyplot as plt\n",
    "plt.plot([1,2,3,4,5,10,11],[3.50,5.00,6.50,8.00,9.50,17.00,18.50])\n",
    "plt.xlabel(\"Quantity\")\n",
    "plt.ylabel(\"Price ($) \")"
   ]
  },
  {
   "cell_type": "markdown",
   "metadata": {},
   "source": [
    "After plotting all value of the shopping cost (in blue line), you can see, they all are in one line, that’s why we call it linear. With the equation of linear ```y = a + bx```, the ```a``` is an independent variable. Even if ```a = 0``` (you have no need to pay for the parking ticket), the Shopping Cost line will shift down and they are still in a line (orange line).\n",
    "\n",
    "Quantity| Shopping Cost with Parking Ticket | Shopping Cost without Parking Ticket|\n",
    "---------|----------| ------- |\n",
    " 1  | $ 3.50 | $ 1.50|\n",
    " 2  | $ 5.00 | $ 3.00|\n",
    " 3  | $ 6.50 | $ 4.50|\n",
    " 4  | $ 8.00 | $ 6.00|\n",
    " 5  | $ 9.50 | $ 7.50|\n",
    " ...|  ...   |  ...\n",
    " 10 | $ 17.00| $ 15.00|\n",
    " 11 | $ 18.50| $ 16.50|\n",
    " ...| ...    |  ...   |\n",
    " Y  |  Y     |   Z    | "
   ]
  },
  {
   "cell_type": "code",
   "execution_count": 8,
   "metadata": {},
   "outputs": [
    {
     "data": {
      "text/plain": [
       "[<matplotlib.lines.Line2D at 0x7fddb9108ee0>,\n",
       " <matplotlib.lines.Line2D at 0x7fddb9108f10>]"
      ]
     },
     "execution_count": 8,
     "metadata": {},
     "output_type": "execute_result"
    },
    {
     "data": {
      "image/png": "[encoded data removed]",
      "text/plain": [
       "<Figure size 432x288 with 1 Axes>"
      ]
     },
     "metadata": {
      "needs_background": "light"
     },
     "output_type": "display_data"
    }
   ],
   "source": [
    "plt.plot([1,2,3,4,5,10,11],[3.50,5.00,6.50,8.00,9.50,17.00,18.50],\n",
    "             [1,2,3,4,5,10,11], [1.50,3.00,4.50,6.00,7.50,15.00,16.50])"
   ]
  },
  {
   "cell_type": "markdown",
   "metadata": {},
   "source": [
    "But in real life, things are not that simple!\n",
    "\n",
    "Let’s take another example, in AB Company, there is a salary distribution table based on Year of Experience as per below:\n",
    "\n",
    "![image](https://miro.medium.com/max/526/1*g5JCA1qiprxNhAyA9IhO7A.png)\n",
    "\n",
    "“The scenario is you are a HR officer, you got a candidate with 5 years of experience. Then what is the best salary you should offer to him?”\n",
    "\n",
    "Before deep dive into this problem, let’s plot the data set into the plot first:\n",
    "\n",
    "![image](https://miro.medium.com/max/1400/1*BU2zrxl3E1o3_xiVNU-fdw.png)\n",
    "\n",
    "Please look at this chart carefully. Now we have a bad news: all the observations are not in a line. It means we cannot find out the equation to calculate the (y) value.\n",
    "\n",
    "So what now? Don’t worry, we have a good news for you!\n",
    "Look at the Scatter Plot again before scrolling down. Do you see it?\n",
    "\n",
    "\n",
    "All the points is not in a line BUT they are in a line-shape! It’s __linear!__\n",
    "\n",
    "![image](https://miro.medium.com/max/1400/1*5ZOxDGtFsewBEve9FG5DQQ.png)\n",
    "\n",
    "Based on our observation, we can guess that the salary range of 5 Years Experience should be in the red range. Of course, we can offer to our candidate any number in that red range. But how to pick the best number for him? It’s time to use Machine Learning to predict the best salary for our candidate.\n",
    "\n",
    "### Training and Testing the Data\n",
    "\n",
    "Dataset is always broken up into two pieces. \n",
    "\n",
    "1. Traning Dataset - to train the ML model \n",
    "2. Testing Dataset - to test the ML model. Also called unseen or real data.\n",
    "\n",
    "The two datasets are different because we want to see how accurate the model is with new unseen data. This technique is also used to test the credibility and transparency of our model."
   ]
  },
  {
   "cell_type": "markdown",
   "metadata": {},
   "source": [
    "### Let's get into the code and see how things workout in the code"
   ]
  },
  {
   "cell_type": "code",
   "execution_count": 74,
   "metadata": {},
   "outputs": [],
   "source": [
    "import numpy as np\n",
    "import matplotlib.pyplot as plt\n",
    "import seaborn as sns\n",
    "import pandas as pd\n",
    "\n",
    "# Importing the dataset\n",
    "dataset = pd.read_csv('Salary_data.csv')\n",
    "X = dataset.iloc[:, :-1].values #get a copy of dataset exclude last column\n",
    "y = dataset.iloc[:, 1].values #get array of dataset in column 1st"
   ]
  },
  {
   "cell_type": "code",
   "execution_count": 75,
   "metadata": {},
   "outputs": [
    {
     "data": {
      "text/html": [
       "<div>\n",
       "<style scoped>\n",
       "    .dataframe tbody tr th:only-of-type {\n",
       "        vertical-align: middle;\n",
       "    }\n",
       "\n",
       "    .dataframe tbody tr th {\n",
       "        vertical-align: top;\n",
       "    }\n",
       "\n",
       "    .dataframe thead th {\n",
       "        text-align: right;\n",
       "    }\n",
       "</style>\n",
       "<table border=\"1\" class=\"dataframe\">\n",
       "  <thead>\n",
       "    <tr style=\"text-align: right;\">\n",
       "      <th></th>\n",
       "      <th>YearsExperience</th>\n",
       "      <th>Salary</th>\n",
       "    </tr>\n",
       "  </thead>\n",
       "  <tbody>\n",
       "    <tr>\n",
       "      <th>0</th>\n",
       "      <td>1.1</td>\n",
       "      <td>39343.0</td>\n",
       "    </tr>\n",
       "    <tr>\n",
       "      <th>1</th>\n",
       "      <td>1.3</td>\n",
       "      <td>46205.0</td>\n",
       "    </tr>\n",
       "    <tr>\n",
       "      <th>2</th>\n",
       "      <td>1.5</td>\n",
       "      <td>37731.0</td>\n",
       "    </tr>\n",
       "    <tr>\n",
       "      <th>3</th>\n",
       "      <td>2.0</td>\n",
       "      <td>43525.0</td>\n",
       "    </tr>\n",
       "    <tr>\n",
       "      <th>4</th>\n",
       "      <td>2.2</td>\n",
       "      <td>39891.0</td>\n",
       "    </tr>\n",
       "  </tbody>\n",
       "</table>\n",
       "</div>"
      ],
      "text/plain": [
       "   YearsExperience   Salary\n",
       "0              1.1  39343.0\n",
       "1              1.3  46205.0\n",
       "2              1.5  37731.0\n",
       "3              2.0  43525.0\n",
       "4              2.2  39891.0"
      ]
     },
     "execution_count": 75,
     "metadata": {},
     "output_type": "execute_result"
    }
   ],
   "source": [
    "dataset.head()"
   ]
  },
  {
   "cell_type": "code",
   "execution_count": 76,
   "metadata": {},
   "outputs": [
    {
     "name": "stdout",
     "output_type": "stream",
     "text": [
      "<class 'pandas.core.frame.DataFrame'>\n",
      "RangeIndex: 30 entries, 0 to 29\n",
      "Data columns (total 2 columns):\n",
      " #   Column           Non-Null Count  Dtype  \n",
      "---  ------           --------------  -----  \n",
      " 0   YearsExperience  30 non-null     float64\n",
      " 1   Salary           30 non-null     float64\n",
      "dtypes: float64(2)\n",
      "memory usage: 608.0 bytes\n"
     ]
    }
   ],
   "source": [
    "dataset.info()"
   ]
  },
  {
   "cell_type": "code",
   "execution_count": 77,
   "metadata": {},
   "outputs": [
    {
     "data": {
      "text/html": [
       "<div>\n",
       "<style scoped>\n",
       "    .dataframe tbody tr th:only-of-type {\n",
       "        vertical-align: middle;\n",
       "    }\n",
       "\n",
       "    .dataframe tbody tr th {\n",
       "        vertical-align: top;\n",
       "    }\n",
       "\n",
       "    .dataframe thead th {\n",
       "        text-align: right;\n",
       "    }\n",
       "</style>\n",
       "<table border=\"1\" class=\"dataframe\">\n",
       "  <thead>\n",
       "    <tr style=\"text-align: right;\">\n",
       "      <th></th>\n",
       "      <th>YearsExperience</th>\n",
       "      <th>Salary</th>\n",
       "    </tr>\n",
       "  </thead>\n",
       "  <tbody>\n",
       "    <tr>\n",
       "      <th>count</th>\n",
       "      <td>30.000000</td>\n",
       "      <td>30.000000</td>\n",
       "    </tr>\n",
       "    <tr>\n",
       "      <th>mean</th>\n",
       "      <td>5.313333</td>\n",
       "      <td>76003.000000</td>\n",
       "    </tr>\n",
       "    <tr>\n",
       "      <th>std</th>\n",
       "      <td>2.837888</td>\n",
       "      <td>27414.429785</td>\n",
       "    </tr>\n",
       "    <tr>\n",
       "      <th>min</th>\n",
       "      <td>1.100000</td>\n",
       "      <td>37731.000000</td>\n",
       "    </tr>\n",
       "    <tr>\n",
       "      <th>25%</th>\n",
       "      <td>3.200000</td>\n",
       "      <td>56720.750000</td>\n",
       "    </tr>\n",
       "    <tr>\n",
       "      <th>50%</th>\n",
       "      <td>4.700000</td>\n",
       "      <td>65237.000000</td>\n",
       "    </tr>\n",
       "    <tr>\n",
       "      <th>75%</th>\n",
       "      <td>7.700000</td>\n",
       "      <td>100544.750000</td>\n",
       "    </tr>\n",
       "    <tr>\n",
       "      <th>max</th>\n",
       "      <td>10.500000</td>\n",
       "      <td>122391.000000</td>\n",
       "    </tr>\n",
       "  </tbody>\n",
       "</table>\n",
       "</div>"
      ],
      "text/plain": [
       "       YearsExperience         Salary\n",
       "count        30.000000      30.000000\n",
       "mean          5.313333   76003.000000\n",
       "std           2.837888   27414.429785\n",
       "min           1.100000   37731.000000\n",
       "25%           3.200000   56720.750000\n",
       "50%           4.700000   65237.000000\n",
       "75%           7.700000  100544.750000\n",
       "max          10.500000  122391.000000"
      ]
     },
     "execution_count": 77,
     "metadata": {},
     "output_type": "execute_result"
    }
   ],
   "source": [
    "dataset.describe()"
   ]
  },
  {
   "cell_type": "code",
   "execution_count": 78,
   "metadata": {},
   "outputs": [
    {
     "data": {
      "text/plain": [
       "<Figure size 864x432 with 0 Axes>"
      ]
     },
     "metadata": {},
     "output_type": "display_data"
    },
    {
     "data": {
      "image/png": "[encoded data removed]",
      "text/plain": [
       "<Figure size 504x504 with 1 Axes>"
      ]
     },
     "metadata": {
      "needs_background": "light"
     },
     "output_type": "display_data"
    }
   ],
   "source": [
    "plt.figure(figsize=(12,6))\n",
    "sns.pairplot(dataset,x_vars=['YearsExperience'],y_vars=['Salary'],height=7,kind='scatter')\n",
    "plt.xlabel('Years')\n",
    "plt.ylabel('Salary')\n",
    "plt.title('Salary Prediction')\n",
    "plt.show()"
   ]
  },
  {
   "cell_type": "markdown",
   "metadata": {},
   "source": [
    "Next, we have to split our dataset (total 30 observations) into 2 sets: training set which used for training and test set which used for testing:"
   ]
  },
  {
   "cell_type": "code",
   "execution_count": 79,
   "metadata": {},
   "outputs": [],
   "source": [
    "# Splitting the dataset into the Training set and Test set since we have the dataset for both inputs (X) and outputs (Y)\n",
    "\n",
    "from sklearn.model_selection import train_test_split \n",
    "\n",
    "# sklearn.model_selection basically selects the model for us and train_test_split is the functions inside this model\n",
    "\n",
    "X_train, X_test, y_train, y_test = train_test_split(X, y, test_size=1/3, random_state=0) \n",
    "\n",
    "# 1/3rd of the dataset is set aside or kept reserved for testing. 2/3 of the dataset is used for model traning.\n",
    "# This returns 04 values : X_train, X_test, y_train, y_test. X_train have the input values stored that are used for traning. Similarly,\n",
    "# x_test will have values stored in that will be used for testing, since we are seperating the testing and traning datasets.Check these\n",
    "# variables in the JUPYTER:VARIABLES. Same goes for the Y variable."
   ]
  },
  {
   "cell_type": "markdown",
   "metadata": {},
   "source": [
    "* test_size=1/3: we will split our dataset (30 observations) into 2 parts (training set, test set) and the ratio of test set compare to dataset is 1/3 (10 observations will be put into the test set. You can put it 1/2 to get 50% or 0.5, they are the same. We should not let the test set too big; if it’s too big, we will lack of data to train. Normally, we should pick around 5% to 30%.\n",
    "\n",
    "* train_size: if we use the test_size already, the rest of data will automatically be assigned to train_size.\n",
    "\n",
    "* random_state: this is the seed for the random number generator. We can put an instance of the RandomState class as well. If we leave it blank or 0, the RandomState instance used by np.random will be used instead.\n",
    "\n",
    "We already have the train set and test set, now we have to build the Regression Model:"
   ]
  },
  {
   "cell_type": "code",
   "execution_count": 80,
   "metadata": {},
   "outputs": [
    {
     "data": {
      "text/plain": [
       "LinearRegression()"
      ]
     },
     "execution_count": 80,
     "metadata": {},
     "output_type": "execute_result"
    }
   ],
   "source": [
    "# Fitting Simple Linear Regression to the Training set\n",
    "\n",
    "from sklearn.linear_model import LinearRegression # sklearn.model_selection basically selects the model/library for us and \n",
    "# Linear Regression is the function/method inside this model\n",
    "\n",
    "regressor = LinearRegression() # this line basically calculates the values of \"W\" and \"B\" in the equation \"Y = \"WX + B\". LinearRegression\n",
    "# is called here.\n",
    "\n",
    "regressor.fit(X_train, y_train) # fits the relation between X and Y by selecting different values of \"W\" and \"B\" in the \"Y = \"WX + B\".\n",
    "# X and Y mapping."
   ]
  },
  {
   "cell_type": "markdown",
   "metadata": {},
   "source": [
    "* regressor = LinearRegression(): our training model which will implement the Linear Regression.\n",
    "\n",
    "* regressor.fit: in this line, we pass the X_train which contains value of Year Experience and y_train which contains values of particular Salary to form up the model. This is the training process."
   ]
  },
  {
   "cell_type": "markdown",
   "metadata": {},
   "source": [
    "Let’s visualize our training model and testing model:"
   ]
  },
  {
   "cell_type": "code",
   "execution_count": 81,
   "metadata": {},
   "outputs": [
    {
     "data": {
      "image/png": "[encoded data removed]",
      "text/plain": [
       "<Figure size 432x288 with 1 Axes>"
      ]
     },
     "metadata": {
      "needs_background": "light"
     },
     "output_type": "display_data"
    },
    {
     "data": {
      "image/png": "[encoded data removed]",
      "text/plain": [
       "<Figure size 432x288 with 1 Axes>"
      ]
     },
     "metadata": {
      "needs_background": "light"
     },
     "output_type": "display_data"
    }
   ],
   "source": [
    "# Visualizing the Training set results\n",
    "\n",
    "viz_train = plt\n",
    "viz_train.scatter(X_train, y_train, color='red') # plots the inputs in red\n",
    "viz_train.plot(X_train, regressor.predict(X_train), color='blue') # .predict gives an output based on some input value\n",
    "viz_train.title('Salary VS Experience (Training set)')\n",
    "viz_train.xlabel('Year of Experience')\n",
    "viz_train.ylabel('Salary')\n",
    "viz_train.show()\n",
    "\n",
    "# Visualizing the Test set results\n",
    "# Test data that was reserved/set aside is now used here.\n",
    "\n",
    "viz_test = plt\n",
    "viz_test.scatter(X_test, y_test, color='red')\n",
    "viz_test.plot(X_train, regressor.predict(X_train), color='blue')\n",
    "viz_test.title('Salary VS Experience (Test set)')\n",
    "viz_test.xlabel('Year of Experience')\n",
    "viz_test.ylabel('Salary')\n",
    "viz_test.show()"
   ]
  },
  {
   "cell_type": "markdown",
   "metadata": {},
   "source": [
    "Compare two plots, we can see 2 blue lines are the same direction. Our model is good to use now.\n",
    "\n",
    "Alright! We already have the model, now we can use it to calculate (predict) any values of X depends on y or any values of y depends on X. This is how we do it:"
   ]
  },
  {
   "cell_type": "code",
   "execution_count": 82,
   "metadata": {},
   "outputs": [
    {
     "name": "stdout",
     "output_type": "stream",
     "text": [
      "[ 40835.10590871 123079.39940819  65134.55626083  63265.36777221\n",
      " 115602.64545369 108125.8914992  116537.23969801  64199.96201652\n",
      "  76349.68719258 100649.1375447 ]\n"
     ]
    }
   ],
   "source": [
    "# Predicting the result of 5 Years Experience\n",
    "\n",
    "y_pred = regressor.predict(X_test)\n",
    "print(y_pred)"
   ]
  },
  {
   "cell_type": "code",
   "execution_count": 49,
   "metadata": {},
   "outputs": [
    {
     "name": "stdout",
     "output_type": "stream",
     "text": [
      "[73545.90445964]\n"
     ]
    }
   ],
   "source": [
    "# Predicting the result of 5 Years Experience\n",
    "\n",
    "y_pred = regressor.predict([[5]])\n",
    "print(y_pred)"
   ]
  },
  {
   "cell_type": "code",
   "execution_count": 83,
   "metadata": {},
   "outputs": [
    {
     "name": "stdout",
     "output_type": "stream",
     "text": [
      "[120275.61667525]\n"
     ]
    }
   ],
   "source": [
    "# Predicting the result of 10 Years Experience\n",
    "\n",
    "y_pred = regressor.predict([[10]])\n",
    "print(y_pred)"
   ]
  },
  {
   "cell_type": "markdown",
   "metadata": {},
   "source": [
    "In conclusion, with Simple Linear Regression, we have to do 5 steps as per below:\n",
    "\n",
    "\n",
    "1. Importing the dataset.\n",
    "\n",
    "2. Splitting dataset into training set and testing set (2 dimensions of X and y per each set). Normally, the testing set should be 5% to 30% of dataset.\n",
    "\n",
    "3. Visualize the training set and testing set to double check (you can bypass this step if you want).\n",
    "\n",
    "4. Initializing the regression model and fitting it using training set (both X and y).\n",
    "\n",
    "5. Let’s predict!!"
   ]
  },
  {
   "cell_type": "markdown",
   "metadata": {},
   "source": [
    "Besides, LinearRegression, there's also Classification where we classify things into different classes. LinearRegression works on continous numerical data. Classification works on qualitative data."
   ]
  },
  {
   "cell_type": "markdown",
   "metadata": {},
   "source": [
    "## Predicting Weight on the basis of age (given)"
   ]
  },
  {
   "cell_type": "code",
   "execution_count": 88,
   "metadata": {},
   "outputs": [],
   "source": [
    "import numpy as np\n",
    "import matplotlib.pyplot as plt\n",
    "import seaborn as sns\n",
    "import pandas as pd\n",
    "\n",
    "# Importing the dataset\n",
    "dataset_workshop = pd.read_csv('mldata.csv')\n",
    "X = dataset.iloc[:, :-1].values #get a copy of dataset exclude last column\n",
    "y = dataset.iloc[:, 1].values #get array of dataset in column 1st"
   ]
  },
  {
   "cell_type": "code",
   "execution_count": 89,
   "metadata": {},
   "outputs": [
    {
     "data": {
      "text/html": [
       "<div>\n",
       "<style scoped>\n",
       "    .dataframe tbody tr th:only-of-type {\n",
       "        vertical-align: middle;\n",
       "    }\n",
       "\n",
       "    .dataframe tbody tr th {\n",
       "        vertical-align: top;\n",
       "    }\n",
       "\n",
       "    .dataframe thead th {\n",
       "        text-align: right;\n",
       "    }\n",
       "</style>\n",
       "<table border=\"1\" class=\"dataframe\">\n",
       "  <thead>\n",
       "    <tr style=\"text-align: right;\">\n",
       "      <th></th>\n",
       "      <th>age</th>\n",
       "      <th>weight</th>\n",
       "      <th>height</th>\n",
       "    </tr>\n",
       "  </thead>\n",
       "  <tbody>\n",
       "    <tr>\n",
       "      <th>0</th>\n",
       "      <td>27</td>\n",
       "      <td>76.0</td>\n",
       "      <td>171</td>\n",
       "    </tr>\n",
       "    <tr>\n",
       "      <th>1</th>\n",
       "      <td>41</td>\n",
       "      <td>70.0</td>\n",
       "      <td>165</td>\n",
       "    </tr>\n",
       "    <tr>\n",
       "      <th>2</th>\n",
       "      <td>29</td>\n",
       "      <td>80.0</td>\n",
       "      <td>171</td>\n",
       "    </tr>\n",
       "    <tr>\n",
       "      <th>3</th>\n",
       "      <td>27</td>\n",
       "      <td>102.0</td>\n",
       "      <td>173</td>\n",
       "    </tr>\n",
       "    <tr>\n",
       "      <th>4</th>\n",
       "      <td>29</td>\n",
       "      <td>67.0</td>\n",
       "      <td>164</td>\n",
       "    </tr>\n",
       "  </tbody>\n",
       "</table>\n",
       "</div>"
      ],
      "text/plain": [
       "   age  weight  height\n",
       "0   27    76.0     171\n",
       "1   41    70.0     165\n",
       "2   29    80.0     171\n",
       "3   27   102.0     173\n",
       "4   29    67.0     164"
      ]
     },
     "execution_count": 89,
     "metadata": {},
     "output_type": "execute_result"
    }
   ],
   "source": [
    "dataset_workshop = dataset_workshop[{\"age\",\"height\",\"weight\"}] # filteration/cleaning\n",
    "dataset_workshop.head()"
   ]
  },
  {
   "cell_type": "code",
   "execution_count": 92,
   "metadata": {},
   "outputs": [
    {
     "name": "stdout",
     "output_type": "stream",
     "text": [
      "<class 'pandas.core.frame.DataFrame'>\n",
      "RangeIndex: 206 entries, 0 to 205\n",
      "Data columns (total 3 columns):\n",
      " #   Column  Non-Null Count  Dtype  \n",
      "---  ------  --------------  -----  \n",
      " 0   age     206 non-null    int64  \n",
      " 1   weight  206 non-null    float64\n",
      " 2   height  206 non-null    int64  \n",
      "dtypes: float64(1), int64(2)\n",
      "memory usage: 5.0 KB\n"
     ]
    }
   ],
   "source": [
    "dataset_workshop.info()"
   ]
  },
  {
   "cell_type": "code",
   "execution_count": 93,
   "metadata": {},
   "outputs": [
    {
     "data": {
      "text/html": [
       "<div>\n",
       "<style scoped>\n",
       "    .dataframe tbody tr th:only-of-type {\n",
       "        vertical-align: middle;\n",
       "    }\n",
       "\n",
       "    .dataframe tbody tr th {\n",
       "        vertical-align: top;\n",
       "    }\n",
       "\n",
       "    .dataframe thead th {\n",
       "        text-align: right;\n",
       "    }\n",
       "</style>\n",
       "<table border=\"1\" class=\"dataframe\">\n",
       "  <thead>\n",
       "    <tr style=\"text-align: right;\">\n",
       "      <th></th>\n",
       "      <th>age</th>\n",
       "      <th>weight</th>\n",
       "      <th>height</th>\n",
       "    </tr>\n",
       "  </thead>\n",
       "  <tbody>\n",
       "    <tr>\n",
       "      <th>count</th>\n",
       "      <td>206.000000</td>\n",
       "      <td>206.000000</td>\n",
       "      <td>206.000000</td>\n",
       "    </tr>\n",
       "    <tr>\n",
       "      <th>mean</th>\n",
       "      <td>28.762136</td>\n",
       "      <td>71.463204</td>\n",
       "      <td>170.242718</td>\n",
       "    </tr>\n",
       "    <tr>\n",
       "      <th>std</th>\n",
       "      <td>5.711497</td>\n",
       "      <td>17.056993</td>\n",
       "      <td>10.190829</td>\n",
       "    </tr>\n",
       "    <tr>\n",
       "      <th>min</th>\n",
       "      <td>18.000000</td>\n",
       "      <td>6.000000</td>\n",
       "      <td>114.000000</td>\n",
       "    </tr>\n",
       "    <tr>\n",
       "      <th>25%</th>\n",
       "      <td>25.000000</td>\n",
       "      <td>60.000000</td>\n",
       "      <td>165.000000</td>\n",
       "    </tr>\n",
       "    <tr>\n",
       "      <th>50%</th>\n",
       "      <td>28.000000</td>\n",
       "      <td>70.000000</td>\n",
       "      <td>171.000000</td>\n",
       "    </tr>\n",
       "    <tr>\n",
       "      <th>75%</th>\n",
       "      <td>31.000000</td>\n",
       "      <td>82.000000</td>\n",
       "      <td>177.750000</td>\n",
       "    </tr>\n",
       "    <tr>\n",
       "      <th>max</th>\n",
       "      <td>50.000000</td>\n",
       "      <td>161.000000</td>\n",
       "      <td>192.000000</td>\n",
       "    </tr>\n",
       "  </tbody>\n",
       "</table>\n",
       "</div>"
      ],
      "text/plain": [
       "              age      weight      height\n",
       "count  206.000000  206.000000  206.000000\n",
       "mean    28.762136   71.463204  170.242718\n",
       "std      5.711497   17.056993   10.190829\n",
       "min     18.000000    6.000000  114.000000\n",
       "25%     25.000000   60.000000  165.000000\n",
       "50%     28.000000   70.000000  171.000000\n",
       "75%     31.000000   82.000000  177.750000\n",
       "max     50.000000  161.000000  192.000000"
      ]
     },
     "execution_count": 93,
     "metadata": {},
     "output_type": "execute_result"
    }
   ],
   "source": [
    "dataset_workshop.describe()"
   ]
  },
  {
   "cell_type": "code",
   "execution_count": 95,
   "metadata": {},
   "outputs": [
    {
     "data": {
      "text/plain": [
       "<Figure size 864x432 with 0 Axes>"
      ]
     },
     "metadata": {},
     "output_type": "display_data"
    },
    {
     "data": {
      "image/png": "[encoded data removed]",
      "text/plain": [
       "<Figure size 504x504 with 1 Axes>"
      ]
     },
     "metadata": {
      "needs_background": "light"
     },
     "output_type": "display_data"
    }
   ],
   "source": [
    "plt.figure(figsize=(12,6))\n",
    "sns.pairplot(dataset_workshop,x_vars=['age'],y_vars=['weight'],height=7,kind='scatter')\n",
    "plt.xlabel('Age')\n",
    "plt.ylabel('Weight')\n",
    "plt.title('Weight Prediction')\n",
    "plt.show()"
   ]
  },
  {
   "cell_type": "code",
   "execution_count": 96,
   "metadata": {},
   "outputs": [
    {
     "data": {
      "text/plain": [
       "array([[ 27.  ,  76.  ],\n",
       "       [ 41.  ,  70.  ],\n",
       "       [ 29.  ,  80.  ],\n",
       "       [ 27.  , 102.  ],\n",
       "       [ 29.  ,  67.  ],\n",
       "       [ 28.  ,  46.  ],\n",
       "       [ 27.  ,  64.3 ],\n",
       "       [ 34.  ,  98.  ],\n",
       "       [ 32.  ,  87.5 ],\n",
       "       [ 22.  ,  80.  ],\n",
       "       [ 29.  ,  65.  ],\n",
       "       [ 29.  ,  78.  ],\n",
       "       [ 23.  ,  62.  ],\n",
       "       [ 28.  ,  74.  ],\n",
       "       [ 25.  , 102.  ],\n",
       "       [ 27.  ,  78.  ],\n",
       "       [ 33.  ,  93.  ],\n",
       "       [ 28.  ,  68.  ],\n",
       "       [ 25.  , 135.  ],\n",
       "       [ 24.  ,  82.  ],\n",
       "       [ 30.  ,  70.  ],\n",
       "       [ 30.  ,  60.  ],\n",
       "       [ 32.  ,  84.5 ],\n",
       "       [ 30.  ,  65.  ],\n",
       "       [ 25.  ,  70.  ],\n",
       "       [ 34.  ,  59.  ],\n",
       "       [ 32.  ,  78.  ],\n",
       "       [ 24.  ,  68.  ],\n",
       "       [ 30.  ,  62.  ],\n",
       "       [ 21.  ,  58.  ],\n",
       "       [ 31.  , 102.3 ],\n",
       "       [ 22.  ,  64.  ],\n",
       "       [ 19.  ,  50.  ],\n",
       "       [ 30.  ,  75.  ],\n",
       "       [ 27.  ,  77.  ],\n",
       "       [ 34.  ,  82.72],\n",
       "       [ 24.  ,  93.  ],\n",
       "       [ 26.  ,  55.  ],\n",
       "       [ 22.  ,  50.  ],\n",
       "       [ 35.  ,  75.  ],\n",
       "       [ 27.  ,  64.  ],\n",
       "       [ 27.  ,  85.  ],\n",
       "       [ 27.  ,  65.  ],\n",
       "       [ 30.  ,  84.  ],\n",
       "       [ 44.  ,  85.  ],\n",
       "       [ 23.  ,  53.  ],\n",
       "       [ 48.  ,  90.  ],\n",
       "       [ 24.  ,  68.  ],\n",
       "       [ 40.  ,  85.  ],\n",
       "       [ 32.  ,  79.  ],\n",
       "       [ 29.  ,  50.9 ],\n",
       "       [ 27.  ,  68.5 ],\n",
       "       [ 26.  , 130.  ],\n",
       "       [ 30.  ,  63.  ],\n",
       "       [ 27.  ,  93.  ],\n",
       "       [ 23.  ,  59.  ],\n",
       "       [ 22.  ,  76.  ],\n",
       "       [ 26.  ,  63.  ],\n",
       "       [ 30.  ,  60.  ],\n",
       "       [ 31.  ,  75.  ],\n",
       "       [ 30.  ,  70.  ],\n",
       "       [ 21.  ,  65.  ],\n",
       "       [ 20.  ,  70.  ],\n",
       "       [ 26.  ,  55.  ],\n",
       "       [ 35.  ,  65.  ],\n",
       "       [ 27.  ,  55.  ],\n",
       "       [ 27.  ,  46.  ],\n",
       "       [ 38.  ,  62.  ],\n",
       "       [ 25.  ,  72.5 ],\n",
       "       [ 25.  ,  55.5 ],\n",
       "       [ 24.  ,  70.  ],\n",
       "       [ 22.  ,  52.  ],\n",
       "       [ 32.  ,  61.5 ],\n",
       "       [ 27.  ,  60.  ],\n",
       "       [ 22.  ,  62.  ],\n",
       "       [ 37.  ,  77.  ],\n",
       "       [ 30.  ,  65.  ],\n",
       "       [ 27.  ,  50.  ],\n",
       "       [ 25.  ,  75.  ],\n",
       "       [ 38.  ,  81.5 ],\n",
       "       [ 25.  ,  88.  ],\n",
       "       [ 21.  ,  60.  ],\n",
       "       [ 31.  ,  86.  ],\n",
       "       [ 24.  ,  87.  ],\n",
       "       [ 18.  ,  55.6 ],\n",
       "       [ 24.  ,  86.  ],\n",
       "       [ 35.  ,  82.  ],\n",
       "       [ 44.  ,  70.  ],\n",
       "       [ 30.  ,  60.  ],\n",
       "       [ 32.  ,  50.  ],\n",
       "       [ 25.  ,  62.  ],\n",
       "       [ 29.  ,  71.  ],\n",
       "       [ 24.  ,  55.  ],\n",
       "       [ 29.  ,  78.  ],\n",
       "       [ 35.  ,  72.  ],\n",
       "       [ 46.  ,  75.  ],\n",
       "       [ 27.  ,  57.  ],\n",
       "       [ 25.  ,  90.  ],\n",
       "       [ 29.  ,  65.  ],\n",
       "       [ 37.  ,  68.  ],\n",
       "       [ 32.  ,  74.  ],\n",
       "       [ 20.  ,  52.  ],\n",
       "       [ 32.  ,  51.  ],\n",
       "       [ 28.  ,  76.  ],\n",
       "       [ 27.  ,  82.  ],\n",
       "       [ 30.  ,  75.  ],\n",
       "       [ 31.  ,  86.  ],\n",
       "       [ 27.  ,  80.  ],\n",
       "       [ 29.  ,  78.  ],\n",
       "       [ 20.  ,  54.  ],\n",
       "       [ 31.  ,  85.  ],\n",
       "       [ 27.  ,  58.  ],\n",
       "       [ 40.  ,  97.  ],\n",
       "       [ 24.  ,  66.  ],\n",
       "       [ 25.  ,  47.  ],\n",
       "       [ 24.  ,  65.  ],\n",
       "       [ 26.  ,  60.  ],\n",
       "       [ 30.  ,  90.  ],\n",
       "       [ 31.  ,  40.  ],\n",
       "       [ 36.  ,  62.  ],\n",
       "       [ 30.  ,  65.  ],\n",
       "       [ 19.  ,  55.2 ],\n",
       "       [ 23.  ,  71.  ],\n",
       "       [ 25.  ,  55.  ],\n",
       "       [ 27.  ,  54.  ],\n",
       "       [ 28.  , 161.  ],\n",
       "       [ 39.  , 102.  ],\n",
       "       [ 43.  ,  85.  ],\n",
       "       [ 25.  ,  59.  ],\n",
       "       [ 28.  ,  83.  ],\n",
       "       [ 28.  ,  46.  ],\n",
       "       [ 23.  ,  62.  ],\n",
       "       [ 25.  ,  55.  ],\n",
       "       [ 26.  ,  76.  ],\n",
       "       [ 31.  ,  68.  ],\n",
       "       [ 32.  ,  57.  ],\n",
       "       [ 21.  ,  81.  ],\n",
       "       [ 31.  ,  80.  ],\n",
       "       [ 27.  ,  67.  ],\n",
       "       [ 24.  ,  50.  ],\n",
       "       [ 34.  ,  58.  ],\n",
       "       [ 22.  ,  67.  ],\n",
       "       [ 27.  ,  75.  ],\n",
       "       [ 31.  ,  86.  ],\n",
       "       [ 33.  ,  86.  ],\n",
       "       [ 33.  ,  46.7 ],\n",
       "       [ 21.  ,  45.  ],\n",
       "       [ 29.  ,   6.  ],\n",
       "       [ 21.  ,  62.  ],\n",
       "       [ 26.  ,  90.  ],\n",
       "       [ 27.  , 101.  ],\n",
       "       [ 29.  ,  73.  ],\n",
       "       [ 44.  ,  78.  ],\n",
       "       [ 28.  ,  84.  ],\n",
       "       [ 30.  ,  67.  ],\n",
       "       [ 40.  ,  71.  ],\n",
       "       [ 28.  ,  96.  ],\n",
       "       [ 30.  ,  88.  ],\n",
       "       [ 29.  ,  84.  ],\n",
       "       [ 26.  ,  90.  ],\n",
       "       [ 50.  ,  88.  ],\n",
       "       [ 35.  ,  75.  ],\n",
       "       [ 31.  ,  86.  ],\n",
       "       [ 24.  ,  82.  ],\n",
       "       [ 30.  ,  73.8 ],\n",
       "       [ 29.  ,  74.  ],\n",
       "       [ 31.  ,  54.  ],\n",
       "       [ 27.  ,  62.  ],\n",
       "       [ 25.  ,  64.  ],\n",
       "       [ 34.  ,  82.  ],\n",
       "       [ 34.  ,  79.  ],\n",
       "       [ 32.  ,  74.  ],\n",
       "       [ 34.  ,  98.  ],\n",
       "       [ 31.  ,  86.  ],\n",
       "       [ 24.  ,  57.  ],\n",
       "       [ 30.  ,  75.  ],\n",
       "       [ 28.  ,  56.  ],\n",
       "       [ 20.  ,  78.  ],\n",
       "       [ 27.  ,  88.  ],\n",
       "       [ 24.  ,  75.  ],\n",
       "       [ 27.  ,  85.  ],\n",
       "       [ 37.  ,  80.  ],\n",
       "       [ 28.  ,  74.  ],\n",
       "       [ 24.  ,  45.  ],\n",
       "       [ 33.  ,  74.  ],\n",
       "       [ 29.  ,  88.2 ],\n",
       "       [ 28.  ,  77.  ],\n",
       "       [ 26.  ,  60.  ],\n",
       "       [ 30.  ,  78.  ],\n",
       "       [ 43.  ,  85.  ],\n",
       "       [ 25.  ,  70.  ],\n",
       "       [ 21.  ,  60.  ],\n",
       "       [ 22.  ,  64.  ],\n",
       "       [ 20.  ,  26.  ],\n",
       "       [ 27.  ,  59.  ],\n",
       "       [ 27.  ,  96.  ],\n",
       "       [ 35.  ,  64.  ],\n",
       "       [ 38.  ,  72.2 ],\n",
       "       [ 25.  ,  66.  ],\n",
       "       [ 20.  ,  48.  ],\n",
       "       [ 24.  ,  60.  ],\n",
       "       [ 27.  ,  63.  ],\n",
       "       [ 31.  ,  60.  ],\n",
       "       [ 26.  ,  70.  ],\n",
       "       [ 40.  ,  80.  ],\n",
       "       [ 33.  ,  56.  ]])"
      ]
     },
     "execution_count": 96,
     "metadata": {},
     "output_type": "execute_result"
    }
   ],
   "source": [
    "x = dataset_workshop.iloc[:,:-1].values # get a copy of dataset excluding the last column\n",
    "y = dataset_workshop.iloc[:,1].values # get a copy of dataset in column 1st\n",
    "x"
   ]
  },
  {
   "cell_type": "code",
   "execution_count": 97,
   "metadata": {},
   "outputs": [
    {
     "data": {
      "text/plain": [
       "array([ 76.  ,  70.  ,  80.  , 102.  ,  67.  ,  46.  ,  64.3 ,  98.  ,\n",
       "        87.5 ,  80.  ,  65.  ,  78.  ,  62.  ,  74.  , 102.  ,  78.  ,\n",
       "        93.  ,  68.  , 135.  ,  82.  ,  70.  ,  60.  ,  84.5 ,  65.  ,\n",
       "        70.  ,  59.  ,  78.  ,  68.  ,  62.  ,  58.  , 102.3 ,  64.  ,\n",
       "        50.  ,  75.  ,  77.  ,  82.72,  93.  ,  55.  ,  50.  ,  75.  ,\n",
       "        64.  ,  85.  ,  65.  ,  84.  ,  85.  ,  53.  ,  90.  ,  68.  ,\n",
       "        85.  ,  79.  ,  50.9 ,  68.5 , 130.  ,  63.  ,  93.  ,  59.  ,\n",
       "        76.  ,  63.  ,  60.  ,  75.  ,  70.  ,  65.  ,  70.  ,  55.  ,\n",
       "        65.  ,  55.  ,  46.  ,  62.  ,  72.5 ,  55.5 ,  70.  ,  52.  ,\n",
       "        61.5 ,  60.  ,  62.  ,  77.  ,  65.  ,  50.  ,  75.  ,  81.5 ,\n",
       "        88.  ,  60.  ,  86.  ,  87.  ,  55.6 ,  86.  ,  82.  ,  70.  ,\n",
       "        60.  ,  50.  ,  62.  ,  71.  ,  55.  ,  78.  ,  72.  ,  75.  ,\n",
       "        57.  ,  90.  ,  65.  ,  68.  ,  74.  ,  52.  ,  51.  ,  76.  ,\n",
       "        82.  ,  75.  ,  86.  ,  80.  ,  78.  ,  54.  ,  85.  ,  58.  ,\n",
       "        97.  ,  66.  ,  47.  ,  65.  ,  60.  ,  90.  ,  40.  ,  62.  ,\n",
       "        65.  ,  55.2 ,  71.  ,  55.  ,  54.  , 161.  , 102.  ,  85.  ,\n",
       "        59.  ,  83.  ,  46.  ,  62.  ,  55.  ,  76.  ,  68.  ,  57.  ,\n",
       "        81.  ,  80.  ,  67.  ,  50.  ,  58.  ,  67.  ,  75.  ,  86.  ,\n",
       "        86.  ,  46.7 ,  45.  ,   6.  ,  62.  ,  90.  , 101.  ,  73.  ,\n",
       "        78.  ,  84.  ,  67.  ,  71.  ,  96.  ,  88.  ,  84.  ,  90.  ,\n",
       "        88.  ,  75.  ,  86.  ,  82.  ,  73.8 ,  74.  ,  54.  ,  62.  ,\n",
       "        64.  ,  82.  ,  79.  ,  74.  ,  98.  ,  86.  ,  57.  ,  75.  ,\n",
       "        56.  ,  78.  ,  88.  ,  75.  ,  85.  ,  80.  ,  74.  ,  45.  ,\n",
       "        74.  ,  88.2 ,  77.  ,  60.  ,  78.  ,  85.  ,  70.  ,  60.  ,\n",
       "        64.  ,  26.  ,  59.  ,  96.  ,  64.  ,  72.2 ,  66.  ,  48.  ,\n",
       "        60.  ,  63.  ,  60.  ,  70.  ,  80.  ,  56.  ])"
      ]
     },
     "execution_count": 97,
     "metadata": {},
     "output_type": "execute_result"
    }
   ],
   "source": [
    "y"
   ]
  },
  {
   "cell_type": "code",
   "execution_count": null,
   "metadata": {},
   "outputs": [],
   "source": []
  },
  {
   "cell_type": "code",
   "execution_count": 99,
   "metadata": {},
   "outputs": [
    {
     "ename": "ValueError",
     "evalue": "Found input variables with inconsistent numbers of samples: [30, 206]",
     "output_type": "error",
     "traceback": [
      "\u001b[0;31m---------------------------------------------------------------------------\u001b[0m",
      "\u001b[0;31mValueError\u001b[0m                                Traceback (most recent call last)",
      "\u001b[0;32m/var/folders/y1/m3m9qzps3_5gyg0tnj0jsldm0000gn/T/ipykernel_10995/1809389601.py\u001b[0m in \u001b[0;36m<module>\u001b[0;34m\u001b[0m\n\u001b[1;32m      5\u001b[0m \u001b[0;31m# sklearn.model_selection basically selects the model for us and train_test_split is the functions inside this model\u001b[0m\u001b[0;34m\u001b[0m\u001b[0;34m\u001b[0m\u001b[0m\n\u001b[1;32m      6\u001b[0m \u001b[0;34m\u001b[0m\u001b[0m\n\u001b[0;32m----> 7\u001b[0;31m \u001b[0mX_train\u001b[0m\u001b[0;34m,\u001b[0m \u001b[0mX_test\u001b[0m\u001b[0;34m,\u001b[0m \u001b[0my_train\u001b[0m\u001b[0;34m,\u001b[0m \u001b[0my_test\u001b[0m \u001b[0;34m=\u001b[0m \u001b[0mtrain_test_split\u001b[0m\u001b[0;34m(\u001b[0m\u001b[0mX\u001b[0m\u001b[0;34m,\u001b[0m \u001b[0my\u001b[0m\u001b[0;34m,\u001b[0m \u001b[0mtest_size\u001b[0m\u001b[0;34m=\u001b[0m\u001b[0;36m1\u001b[0m\u001b[0;34m/\u001b[0m\u001b[0;36m3\u001b[0m\u001b[0;34m,\u001b[0m \u001b[0mrandom_state\u001b[0m\u001b[0;34m=\u001b[0m\u001b[0;36m0\u001b[0m\u001b[0;34m)\u001b[0m\u001b[0;34m\u001b[0m\u001b[0;34m\u001b[0m\u001b[0m\n\u001b[0m\u001b[1;32m      8\u001b[0m \u001b[0;34m\u001b[0m\u001b[0m\n\u001b[1;32m      9\u001b[0m \u001b[0;31m# 1/3rd of the dataset is set aside or kept reserved for testing. 2/3 of the dataset is used for model traning.\u001b[0m\u001b[0;34m\u001b[0m\u001b[0;34m\u001b[0m\u001b[0m\n",
      "\u001b[0;32m~/opt/anaconda3/lib/python3.9/site-packages/sklearn/model_selection/_split.py\u001b[0m in \u001b[0;36mtrain_test_split\u001b[0;34m(test_size, train_size, random_state, shuffle, stratify, *arrays)\u001b[0m\n\u001b[1;32m   2170\u001b[0m         \u001b[0;32mraise\u001b[0m \u001b[0mValueError\u001b[0m\u001b[0;34m(\u001b[0m\u001b[0;34m\"At least one array required as input\"\u001b[0m\u001b[0;34m)\u001b[0m\u001b[0;34m\u001b[0m\u001b[0;34m\u001b[0m\u001b[0m\n\u001b[1;32m   2171\u001b[0m \u001b[0;34m\u001b[0m\u001b[0m\n\u001b[0;32m-> 2172\u001b[0;31m     \u001b[0marrays\u001b[0m \u001b[0;34m=\u001b[0m \u001b[0mindexable\u001b[0m\u001b[0;34m(\u001b[0m\u001b[0;34m*\u001b[0m\u001b[0marrays\u001b[0m\u001b[0;34m)\u001b[0m\u001b[0;34m\u001b[0m\u001b[0;34m\u001b[0m\u001b[0m\n\u001b[0m\u001b[1;32m   2173\u001b[0m \u001b[0;34m\u001b[0m\u001b[0m\n\u001b[1;32m   2174\u001b[0m     \u001b[0mn_samples\u001b[0m \u001b[0;34m=\u001b[0m \u001b[0m_num_samples\u001b[0m\u001b[0;34m(\u001b[0m\u001b[0marrays\u001b[0m\u001b[0;34m[\u001b[0m\u001b[0;36m0\u001b[0m\u001b[0;34m]\u001b[0m\u001b[0;34m)\u001b[0m\u001b[0;34m\u001b[0m\u001b[0;34m\u001b[0m\u001b[0m\n",
      "\u001b[0;32m~/opt/anaconda3/lib/python3.9/site-packages/sklearn/utils/validation.py\u001b[0m in \u001b[0;36mindexable\u001b[0;34m(*iterables)\u001b[0m\n\u001b[1;32m    354\u001b[0m     \"\"\"\n\u001b[1;32m    355\u001b[0m     \u001b[0mresult\u001b[0m \u001b[0;34m=\u001b[0m \u001b[0;34m[\u001b[0m\u001b[0m_make_indexable\u001b[0m\u001b[0;34m(\u001b[0m\u001b[0mX\u001b[0m\u001b[0;34m)\u001b[0m \u001b[0;32mfor\u001b[0m \u001b[0mX\u001b[0m \u001b[0;32min\u001b[0m \u001b[0miterables\u001b[0m\u001b[0;34m]\u001b[0m\u001b[0;34m\u001b[0m\u001b[0;34m\u001b[0m\u001b[0m\n\u001b[0;32m--> 356\u001b[0;31m     \u001b[0mcheck_consistent_length\u001b[0m\u001b[0;34m(\u001b[0m\u001b[0;34m*\u001b[0m\u001b[0mresult\u001b[0m\u001b[0;34m)\u001b[0m\u001b[0;34m\u001b[0m\u001b[0;34m\u001b[0m\u001b[0m\n\u001b[0m\u001b[1;32m    357\u001b[0m     \u001b[0;32mreturn\u001b[0m \u001b[0mresult\u001b[0m\u001b[0;34m\u001b[0m\u001b[0;34m\u001b[0m\u001b[0m\n\u001b[1;32m    358\u001b[0m \u001b[0;34m\u001b[0m\u001b[0m\n",
      "\u001b[0;32m~/opt/anaconda3/lib/python3.9/site-packages/sklearn/utils/validation.py\u001b[0m in \u001b[0;36mcheck_consistent_length\u001b[0;34m(*arrays)\u001b[0m\n\u001b[1;32m    317\u001b[0m     \u001b[0muniques\u001b[0m \u001b[0;34m=\u001b[0m \u001b[0mnp\u001b[0m\u001b[0;34m.\u001b[0m\u001b[0munique\u001b[0m\u001b[0;34m(\u001b[0m\u001b[0mlengths\u001b[0m\u001b[0;34m)\u001b[0m\u001b[0;34m\u001b[0m\u001b[0;34m\u001b[0m\u001b[0m\n\u001b[1;32m    318\u001b[0m     \u001b[0;32mif\u001b[0m \u001b[0mlen\u001b[0m\u001b[0;34m(\u001b[0m\u001b[0muniques\u001b[0m\u001b[0;34m)\u001b[0m \u001b[0;34m>\u001b[0m \u001b[0;36m1\u001b[0m\u001b[0;34m:\u001b[0m\u001b[0;34m\u001b[0m\u001b[0;34m\u001b[0m\u001b[0m\n\u001b[0;32m--> 319\u001b[0;31m         raise ValueError(\"Found input variables with inconsistent numbers of\"\n\u001b[0m\u001b[1;32m    320\u001b[0m                          \" samples: %r\" % [int(l) for l in lengths])\n\u001b[1;32m    321\u001b[0m \u001b[0;34m\u001b[0m\u001b[0m\n",
      "\u001b[0;31mValueError\u001b[0m: Found input variables with inconsistent numbers of samples: [30, 206]"
     ]
    }
   ],
   "source": [
    "# Splitting the dataset into the Training set and Test set since we have the dataset for both inputs (X) and outputs (Y)\n",
    "\n",
    "from sklearn.model_selection import train_test_split \n",
    "\n",
    "# sklearn.model_selection basically selects the model for us and train_test_split is the functions inside this model\n",
    "\n",
    "X_train, X_test, y_train, y_test = train_test_split(X, y, test_size=1/3, random_state=0) \n",
    "\n",
    "# 1/3rd of the dataset is set aside or kept reserved for testing. 2/3 of the dataset is used for model traning.\n",
    "# This returns 04 values : X_train, X_test, y_train, y_test. X_train have the input values stored that are used for traning. Similarly,\n",
    "# x_test will have values stored in that will be used for testing, since we are seperating the testing and traning datasets.Check these\n",
    "# variables in the JUPYTER:VARIABLES. Same goes for the Y variable."
   ]
  },
  {
   "cell_type": "code",
   "execution_count": 67,
   "metadata": {},
   "outputs": [
    {
     "data": {
      "text/plain": [
       "LinearRegression()"
      ]
     },
     "execution_count": 67,
     "metadata": {},
     "output_type": "execute_result"
    }
   ],
   "source": [
    "# Fitting Simple Linear Regression to the Training set\n",
    "\n",
    "from sklearn.linear_model import LinearRegression # sklearn.model_selection basically selects the model/library for us and \n",
    "# Linear Regression is the function/method inside this model\n",
    "\n",
    "regressor = LinearRegression() # this line basically calculates the values of \"W\" and \"B\" in the equation \"Y = \"WX + B\". LinearRegression\n",
    "# is called here.\n",
    "\n",
    "regressor.fit(X_train, y_train) # fits the relation between X and Y by selecting different values of \"W\" and \"B\" in the \"Y = \"WX + B\".\n",
    "# X and Y mapping."
   ]
  },
  {
   "cell_type": "code",
   "execution_count": 68,
   "metadata": {},
   "outputs": [
    {
     "data": {
      "image/png": "[encoded data removed]",
      "text/plain": [
       "<Figure size 432x288 with 1 Axes>"
      ]
     },
     "metadata": {
      "needs_background": "light"
     },
     "output_type": "display_data"
    },
    {
     "data": {
      "image/png": "[encoded data removed]",
      "text/plain": [
       "<Figure size 432x288 with 1 Axes>"
      ]
     },
     "metadata": {
      "needs_background": "light"
     },
     "output_type": "display_data"
    }
   ],
   "source": [
    "# Visualizing the Training set results\n",
    "\n",
    "viz_train = plt\n",
    "viz_train.scatter(X_train, y_train, color='red') # plots the inputs in red\n",
    "viz_train.plot(X_train, regressor.predict(X_train), color='blue') # .predict gives an output based on some input value\n",
    "viz_train.title('Age VS Weight (Training set)')\n",
    "viz_train.xlabel('Year')\n",
    "viz_train.ylabel('Weight')\n",
    "viz_train.show()\n",
    "\n",
    "# Visualizing the Test set results\n",
    "# Test data that was reserved/set aside is now used here.\n",
    "\n",
    "viz_test = plt\n",
    "viz_test.scatter(X_test, y_test, color='red')\n",
    "viz_test.plot(X_train, regressor.predict(X_train), color='blue')\n",
    "viz_test.title('Age VS Weight (Test set)')\n",
    "viz_test.xlabel('Year')\n",
    "viz_test.ylabel('Weight')\n",
    "viz_test.show()"
   ]
  },
  {
   "cell_type": "code",
   "execution_count": 69,
   "metadata": {},
   "outputs": [
    {
     "name": "stdout",
     "output_type": "stream",
     "text": [
      "[68.05577546 69.70893507 69.70893507 67.22919565 82.10763213 73.01525429\n",
      " 71.36209468 71.36209468 68.88235526 71.36209468 65.57603605 69.70893507\n",
      " 65.57603605 68.88235526 65.57603605 67.22919565 69.70893507 74.66841389\n",
      " 68.05577546 82.93421194 67.22919565 68.88235526 65.57603605 73.84183409\n",
      " 68.88235526 68.88235526 69.70893507 66.40261585 75.4949937  73.01525429\n",
      " 73.84183409 68.88235526 69.70893507 71.36209468 66.40261585 73.84183409\n",
      " 67.22919565 63.92287644 73.01525429 64.74945624 82.93421194 70.53551487\n",
      " 64.74945624 72.18867448 73.84183409 65.57603605 73.01525429 66.40261585\n",
      " 68.05577546 68.05577546 73.01525429 67.22919565 71.36209468 63.92287644\n",
      " 77.14815331 72.18867448 68.05577546 63.09629663 72.18867448 67.22919565\n",
      " 72.18867448 73.01525429 68.88235526 71.36209468 64.74945624 63.09629663\n",
      " 75.4949937  66.40261585 79.62789272]\n"
     ]
    }
   ],
   "source": [
    "# Predicting the result of 5 Years Experience\n",
    "\n",
    "y_pred = regressor.predict(X_test)\n",
    "print(y_pred)"
   ]
  },
  {
   "cell_type": "code",
   "execution_count": 70,
   "metadata": {},
   "outputs": [
    {
     "name": "stdout",
     "output_type": "stream",
     "text": [
      "[54.83049859]\n"
     ]
    }
   ],
   "source": [
    "# Predicting the result of 10 Years Experience\n",
    "\n",
    "y_pred = regressor.predict([[10]])\n",
    "print(y_pred)"
   ]
  },
  {
   "cell_type": "code",
   "execution_count": 71,
   "metadata": {},
   "outputs": [
    {
     "name": "stdout",
     "output_type": "stream",
     "text": [
      "[68.88235526]\n"
     ]
    }
   ],
   "source": [
    "# Predicting the result of 10 Years Experience\n",
    "\n",
    "y_pred = regressor.predict([[27]])\n",
    "print(y_pred)"
   ]
  },
  {
   "cell_type": "code",
   "execution_count": 73,
   "metadata": {},
   "outputs": [
    {
     "name": "stdout",
     "output_type": "stream",
     "text": [
      "[79.62789272]\n"
     ]
    }
   ],
   "source": [
    "# Predicting the result of 10 Years Experience\n",
    "\n",
    "y_pred = regressor.predict([[40]])\n",
    "print(y_pred)"
   ]
  },
  {
   "cell_type": "code",
   "execution_count": null,
   "metadata": {},
   "outputs": [],
   "source": []
  },
  {
   "cell_type": "code",
   "execution_count": null,
   "metadata": {},
   "outputs": [],
   "source": []
  }
 ],
 "metadata": {
  "interpreter": {
   "hash": "31f2aee4e71d21fbe5cf8b01ff0e069b9275f58929596ceb00d14d90e3e16cd6"
  },
  "kernelspec": {
   "display_name": "Python 3.8.9 64-bit",
   "language": "python",
   "name": "python3"
  },
  "language_info": {
   "codemirror_mode": {
    "name": "ipython",
    "version": 3
   },
   "file_extension": ".py",
   "mimetype": "text/x-python",
   "name": "python",
   "nbconvert_exporter": "python",
   "pygments_lexer": "ipython3",
   "version": "3.9.7"
  },
  "orig_nbformat": 4
 },
 "nbformat": 4,
 "nbformat_minor": 2
}
