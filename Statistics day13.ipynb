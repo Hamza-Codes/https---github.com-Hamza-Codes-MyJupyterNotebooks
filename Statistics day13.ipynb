{
 "cells": [
  {
   "cell_type": "markdown",
   "metadata": {},
   "source": [
    "# <span style=\"color:#1a7796\"> Basics of Statistics for Data Science </span>\n",
    "---\n",
    "\n",
    "## Outline\n",
    "\n",
    "1. Descriptive Statistics\n",
    "\n",
    "2. Data Visualisation\n",
    "\n",
    "3. Probability Distribution\n",
    "\n",
    "4. Hypothesis Testing\n",
    "\n",
    "5. Regression Analysis\n",
    "\n",
    "## Important information before jumping into Statistics\n",
    "\n",
    "Python packages and libraries for Data Science\n",
    "\n",
    "- For <span style=\"color:#fca503\">**Scientific Computing** </span>, we use<span style=\"color:#aa6da3\"> **Numpy** </span>(Arrays and matrices),<span style=\"color:#aa6da3\"> **Pandas**</span> (Data Structures and 2D dataframes), and <span style=\"color:#aa6da3\"> **SciPy**</span> (optimisation and solving of differential equations)\n",
    "\n",
    "- For <span style=\"color:#fca503\"> **Data Visualisation** </span> , we use <span style=\"color:#aa6da3\"> **Seaborn**</span> (heat maps, time series and other plots) and <span style=\"color:#aa6da3\">**Matplotlib**</span> (Plots, graphs, figures)\n",
    "\n",
    "- For <span style=\"color:#fca503\">**Machine Learning (ML)**</span> algorithmic development, we use <span style=\"color:#aa6da3\"> **Scikit-learn**</span> (Machine learning: Linear regression, classification, clustering analysis, and so on) and <span style=\"color:#aa6da3\"> **Statsmodels**</span> (explore data, estimation of statistical models, and perform statistical analysis)\n",
    "\n",
    "---\n",
    "---\n",
    "\n",
    "## <span style=\"color:#1a7796\"> Statistics </span>\n"
   ]
  },
  {
   "cell_type": "code",
   "execution_count": null,
   "metadata": {
    "vscode": {
     "languageId": "plaintext"
    }
   },
   "outputs": [],
   "source": []
  },
  {
   "cell_type": "code",
   "execution_count": null,
   "metadata": {
    "vscode": {
     "languageId": "plaintext"
    }
   },
   "outputs": [],
   "source": []
  },
  {
   "cell_type": "code",
   "execution_count": null,
   "metadata": {
    "vscode": {
     "languageId": "plaintext"
    }
   },
   "outputs": [],
   "source": []
  },
  {
   "cell_type": "code",
   "execution_count": null,
   "metadata": {
    "vscode": {
     "languageId": "plaintext"
    }
   },
   "outputs": [],
   "source": []
  },
  {
   "cell_type": "code",
   "execution_count": null,
   "metadata": {
    "vscode": {
     "languageId": "plaintext"
    }
   },
   "outputs": [],
   "source": []
  },
  {
   "cell_type": "code",
   "execution_count": null,
   "metadata": {
    "vscode": {
     "languageId": "plaintext"
    }
   },
   "outputs": [],
   "source": []
  },
  {
   "cell_type": "markdown",
   "metadata": {},
   "source": []
  }
 ],
 "metadata": {
  "language_info": {
   "name": "python"
  },
  "orig_nbformat": 4
 },
 "nbformat": 4,
 "nbformat_minor": 2
}
