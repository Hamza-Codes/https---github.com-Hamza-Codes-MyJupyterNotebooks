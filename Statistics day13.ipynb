{
 "cells": [
  {
   "cell_type": "markdown",
   "metadata": {},
   "source": [
    "# <span style=\"color:#1a7796\"> Basics of Statistics for Data Science </span>\n",
    "---\n",
    "\n",
    "## Outline\n",
    "\n",
    "1. Descriptive Statistics\n",
    "\n",
    "2. Data Visualisation\n",
    "\n",
    "3. Probability Distribution\n",
    "\n",
    "4. Hypothesis Testing\n",
    "\n",
    "5. Regression Analysis\n",
    "\n",
    "## Important information before jumping into Statistics\n",
    "\n",
    "Python packages and libraries for Data Science\n",
    "\n",
    "- For <span style=\"color:#fca503\">**Scientific Computing** </span>, we use<span style=\"color:#aa6da3\"> **Numpy** </span>(Arrays and matrices),<span style=\"color:#aa6da3\"> **Pandas**</span> (Data Structures and 2D dataframes), and <span style=\"color:#aa6da3\"> **SciPy**</span> (optimisation and solving of differential equations)\n",
    "\n",
    "- For <span style=\"color:#fca503\"> **Data Visualisation** </span> , we use <span style=\"color:#aa6da3\"> **Seaborn**</span> (heat maps, time series and other plots) and <span style=\"color:#aa6da3\">**Matplotlib**</span> (Plots, graphs, figures)\n",
    "\n",
    "- For <span style=\"color:#fca503\">**Machine Learning (ML)**</span> algorithmic development, we use <span style=\"color:#aa6da3\"> **Scikit-learn**</span> (Machine learning: Linear regression, classification, clustering analysis, and so on) and <span style=\"color:#aa6da3\"> **Statsmodels**</span> (explore data, estimation of statistical models, and perform statistical analysis)\n",
    "\n",
    "---\n",
    "---"
   ]
  },
  {
   "cell_type": "markdown",
   "metadata": {},
   "source": [
    "## <span style=\"color:#1a7796\"> Statistics </span>\n",
    "\n",
    "Statistics is a collection of methods for collecting, displaying, analyzing and drawing conclusions from data.\n",
    "Statistics is everywhere.\n",
    "\n",
    "- Will it rain? 55% - 70% chance of rain? (Weather forecast)\n",
    "- Rate of USD prediction\n",
    "\n",
    "- Housing material prices increase?\n",
    "\n",
    "- Un-employment rate increased or decreased?\n",
    "\n",
    "- Who gets paid how much?\n",
    "\n",
    "- Averege salary of a Data Analyst or Data Scientist?\n",
    "\n",
    "- Any comparison in research\n",
    "\n",
    "\n",
    "### <span style=\"color:#1a7796\"> Language of Statitics</span>\n",
    "\n",
    "- Average or mean\n",
    "\n",
    "- Highest, Maximum, Lowest, Minimum\n",
    "\n",
    "- Percentages, ratios\n",
    "\n",
    "- Probability, likelihood\n",
    "\n",
    "- Varience, Standard Deviation\n",
    "\n",
    "- T-Test\n",
    "\n",
    "- ANOVA "
   ]
  },
  {
   "cell_type": "markdown",
   "metadata": {},
   "source": []
  },
  {
   "cell_type": "markdown",
   "metadata": {},
   "source": [
    "### <span style=\"color:#1a7796\"> Types of Data </span>\n",
    "\n",
    "1. Cross Sectional Data - Data collected at one point. For example, how many views has this video gotten on 13 April, 2022?\n",
    "\n",
    "2. Time Series Data - Data collected over different points of time. For example, how many views has this video gotten since 13 April, 2022?\n",
    "\n",
    "3. Univariate Data - Data contains a single variable to measure entity. For example, meal taken that results in weight gain.\n",
    "\n",
    "4. Multi-variate Data - Data contains more than 2 variables to measure something. For example, meal and coke taken that result in weight gain.\n",
    "\n",
    "### <span style=\"color:#1a7796\"> Variable Types </span>\n",
    "\n",
    "Categorical (Nominal)\n",
    "\n",
    "1. Bionomial (YES?NO) or (True/False) - No quantitative relationship is given\n",
    "\n",
    "2. Multinomial\n",
    "\n",
    "3. Ordinal Variable - Data ranked or ordered. Categories can be compared. No fixed unit of measurement for statistics.\n",
    "\n",
    "4. Ratio Data\n",
    "\n",
    "5. Interval Variable/Data\n",
    "\n",
    "### <span style=\"color:#1a7796\"> Measure of central tendency </span>\n",
    "\n",
    "- Mean, Median. Mode\n",
    "- N = Size of population\n",
    "- n = Size of sample\n",
    "- sum sign = sum\n"
   ]
  },
  {
   "cell_type": "code",
   "execution_count": 1,
   "metadata": {},
   "outputs": [],
   "source": [
    "import pandas as pd \n",
    "import numpy as np\n",
    "import seaborn as sns\n",
    "import matplotlib.pyplot as plt"
   ]
  },
  {
   "cell_type": "code",
   "execution_count": 4,
   "metadata": {},
   "outputs": [],
   "source": [
    "phool = sns.load_dataset(\"iris\")\n",
    "phool.head()\n",
    "phool.to_csv(\"Iris.csv\")"
   ]
  },
  {
   "cell_type": "code",
   "execution_count": 6,
   "metadata": {},
   "outputs": [
    {
     "name": "stdout",
     "output_type": "stream",
     "text": [
      "       Unnamed: 0  sepal_length  sepal_width  petal_length  petal_width\n",
      "count  150.000000    150.000000   150.000000    150.000000   150.000000\n",
      "mean    74.500000      5.843333     3.057333      3.758000     1.199333\n",
      "std     43.445368      0.828066     0.435866      1.765298     0.762238\n",
      "min      0.000000      4.300000     2.000000      1.000000     0.100000\n",
      "25%     37.250000      5.100000     2.800000      1.600000     0.300000\n",
      "50%     74.500000      5.800000     3.000000      4.350000     1.300000\n",
      "75%    111.750000      6.400000     3.300000      5.100000     1.800000\n",
      "max    149.000000      7.900000     4.400000      6.900000     2.500000\n"
     ]
    }
   ],
   "source": [
    "df = pd.read_csv(\"Iris.csv\")\n",
    "print(df.describe())"
   ]
  },
  {
   "cell_type": "code",
   "execution_count": null,
   "metadata": {},
   "outputs": [],
   "source": []
  }
 ],
 "metadata": {
  "interpreter": {
   "hash": "ba2361067168afed1c079caf992ac24fc269719f1822f6a8ce7ddb7530c7c373"
  },
  "kernelspec": {
   "display_name": "Python 3.9.7 ('base')",
   "language": "python",
   "name": "python3"
  },
  "language_info": {
   "codemirror_mode": {
    "name": "ipython",
    "version": 3
   },
   "file_extension": ".py",
   "mimetype": "text/x-python",
   "name": "python",
   "nbconvert_exporter": "python",
   "pygments_lexer": "ipython3",
   "version": "3.9.7"
  },
  "orig_nbformat": 4
 },
 "nbformat": 4,
 "nbformat_minor": 2
}
