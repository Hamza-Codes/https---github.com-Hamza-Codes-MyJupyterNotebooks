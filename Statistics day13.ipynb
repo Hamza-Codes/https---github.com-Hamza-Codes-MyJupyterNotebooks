{
 "cells": [
  {
   "cell_type": "markdown",
   "metadata": {},
   "source": [
    "# <span style=\"color:#1a7796\"> Basics of Statistics for Data Science </span>\n",
    "---\n",
    "\n",
    "## Outline\n",
    "\n",
    "1. Descriptive Statistics\n",
    "\n",
    "2. Data Visualisation\n",
    "\n",
    "3. Probability Distribution\n",
    "\n",
    "4. Hypothesis Testing\n",
    "\n",
    "5. Regression Analysis\n",
    "\n",
    "## Important information before jumping into Statistics\n",
    "\n",
    "Python packages and libraries for Data Science\n",
    "\n",
    "- For <span style=\"color:#fca503\">**Scientific Computing** </span>, we use<span style=\"color:#aa6da3\"> **Numpy** </span>(Arrays and matrices),<span style=\"color:#aa6da3\"> **Pandas**</span> (Data Structures and 2D dataframes), and <span style=\"color:#aa6da3\"> **SciPy**</span> (optimisation and solving of differential equations)\n",
    "\n",
    "- For <span style=\"color:#fca503\"> **Data Visualisation** </span> , we use <span style=\"color:#aa6da3\"> **Seaborn**</span> (heat maps, time series and other plots) and <span style=\"color:#aa6da3\">**Matplotlib**</span> (Plots, graphs, figures)\n",
    "\n",
    "- For <span style=\"color:#fca503\">**Machine Learning (ML)**</span> algorithmic development, we use <span style=\"color:#aa6da3\"> **Scikit-learn**</span> (Machine learning: Linear regression, classification, clustering analysis, and so on) and <span style=\"color:#aa6da3\"> **Statsmodels**</span> (explore data, estimation of statistical models, and perform statistical analysis)\n",
    "\n",
    "---\n",
    "---"
   ]
  },
  {
   "cell_type": "markdown",
   "metadata": {},
   "source": [
    "## <span style=\"color:#1a7796\"> Statistics </span>\n",
    "\n",
    "Statistics is a collection of methods for collecting, displaying, analyzing and drawing conclusions from data.\n",
    "Statistics is everywhere.\n",
    "\n",
    "- Will it rain? 55% - 70% chance of rain? (Weather forecast)\n",
    "- Rate of USD prediction\n",
    "\n",
    "- Housing material prices increase?\n",
    "\n",
    "- Un-employment rate increased or decreased?\n",
    "\n",
    "- Who gets paid how much?\n",
    "\n",
    "- Averege salary of a Data Analyst or Data Scientist?\n",
    "\n",
    "- Any comparison in research\n",
    "\n",
    "\n",
    "### <span style=\"color:#1a7796\"> Language of Statitics</span>\n",
    "\n",
    "- Average or mean\n",
    "\n",
    "- Highest, Maximum, Lowest, Minimum\n",
    "\n",
    "- Percentages, ratios\n",
    "\n",
    "- Probability, likelihood\n",
    "\n",
    "- Varience, Standard Deviation\n",
    "\n",
    "- T-Test\n",
    "\n",
    "- ANOVA "
   ]
  },
  {
   "cell_type": "markdown",
   "metadata": {},
   "source": []
  },
  {
   "cell_type": "markdown",
   "metadata": {},
   "source": [
    "### <span style=\"color:#1a7796\"> Types of Data </span>\n",
    "\n",
    "1. Cross Sectional Data - Data collected at one point. For example, how many views has this video gotten on 13 April, 2022?\n",
    "\n",
    "2. Time Series Data - Data collected over different points of time. For example, how many views has this video gotten since 13 April, 2022?\n",
    "\n",
    "3. Univariate Data - Data contains a single variable to measure entity. For example, meal taken that results in weight gain.\n",
    "\n",
    "4. Multi-variate Data - Data contains more than 2 variables to measure something. For example, meal and coke taken that result in weight gain.\n",
    "\n",
    "### <span style=\"color:#1a7796\"> Variable Types </span>\n",
    "\n",
    "Categorical (Nominal)\n",
    "\n",
    "1. Bionomial (YES?NO) or (True/False) - No quantitative relationship is given\n",
    "\n",
    "2. Multinomial\n",
    "\n",
    "3. Ordinal Variable - Data ranked or ordered. Categories can be compared. No fixed unit of measurement for statistics.\n",
    "\n",
    "4. Ratio Data\n",
    "\n",
    "5. Interval Variable/Data\n",
    "\n",
    "### <span style=\"color:#1a7796\"> Measure of central tendency </span>\n",
    "\n",
    "- Mean, Median. Mode\n",
    "- N = Size of population\n",
    "- n = Size of sample\n",
    "- sum sign = sum\n"
   ]
  },
  {
   "cell_type": "code",
   "execution_count": 1,
   "metadata": {},
   "outputs": [],
   "source": [
    "import pandas as pd \n",
    "import numpy as np\n",
    "import seaborn as sns\n",
    "import matplotlib.pyplot as plt"
   ]
  },
  {
   "cell_type": "code",
   "execution_count": 4,
   "metadata": {},
   "outputs": [],
   "source": [
    "phool = sns.load_dataset(\"iris\")\n",
    "phool.head()\n",
    "phool.to_csv(\"Iris.csv\")"
   ]
  },
  {
   "cell_type": "code",
   "execution_count": 6,
   "metadata": {},
   "outputs": [
    {
     "name": "stdout",
     "output_type": "stream",
     "text": [
      "       Unnamed: 0  sepal_length  sepal_width  petal_length  petal_width\n",
      "count  150.000000    150.000000   150.000000    150.000000   150.000000\n",
      "mean    74.500000      5.843333     3.057333      3.758000     1.199333\n",
      "std     43.445368      0.828066     0.435866      1.765298     0.762238\n",
      "min      0.000000      4.300000     2.000000      1.000000     0.100000\n",
      "25%     37.250000      5.100000     2.800000      1.600000     0.300000\n",
      "50%     74.500000      5.800000     3.000000      4.350000     1.300000\n",
      "75%    111.750000      6.400000     3.300000      5.100000     1.800000\n",
      "max    149.000000      7.900000     4.400000      6.900000     2.500000\n"
     ]
    }
   ],
   "source": [
    "df = pd.read_csv(\"Iris.csv\")\n",
    "print(df.describe())"
   ]
  },
  {
   "cell_type": "code",
   "execution_count": 7,
   "metadata": {},
   "outputs": [
    {
     "name": "stderr",
     "output_type": "stream",
     "text": [
      "/var/folders/y1/m3m9qzps3_5gyg0tnj0jsldm0000gn/T/ipykernel_2032/3698961737.py:1: FutureWarning: Dropping of nuisance columns in DataFrame reductions (with 'numeric_only=None') is deprecated; in a future version this will raise TypeError.  Select only valid columns before calling the reduction.\n",
      "  df.mean()\n"
     ]
    },
    {
     "data": {
      "text/plain": [
       "Unnamed: 0      74.500000\n",
       "sepal_length     5.843333\n",
       "sepal_width      3.057333\n",
       "petal_length     3.758000\n",
       "petal_width      1.199333\n",
       "dtype: float64"
      ]
     },
     "execution_count": 7,
     "metadata": {},
     "output_type": "execute_result"
    }
   ],
   "source": [
    "df.mean()"
   ]
  },
  {
   "cell_type": "code",
   "execution_count": 8,
   "metadata": {},
   "outputs": [
    {
     "data": {
      "text/html": [
       "<div>\n",
       "<style scoped>\n",
       "    .dataframe tbody tr th:only-of-type {\n",
       "        vertical-align: middle;\n",
       "    }\n",
       "\n",
       "    .dataframe tbody tr th {\n",
       "        vertical-align: top;\n",
       "    }\n",
       "\n",
       "    .dataframe thead th {\n",
       "        text-align: right;\n",
       "    }\n",
       "</style>\n",
       "<table border=\"1\" class=\"dataframe\">\n",
       "  <thead>\n",
       "    <tr style=\"text-align: right;\">\n",
       "      <th></th>\n",
       "      <th>Unnamed: 0</th>\n",
       "      <th>sepal_length</th>\n",
       "      <th>sepal_width</th>\n",
       "      <th>petal_length</th>\n",
       "      <th>petal_width</th>\n",
       "      <th>species</th>\n",
       "    </tr>\n",
       "  </thead>\n",
       "  <tbody>\n",
       "    <tr>\n",
       "      <th>0</th>\n",
       "      <td>0</td>\n",
       "      <td>5.0</td>\n",
       "      <td>3.0</td>\n",
       "      <td>1.4</td>\n",
       "      <td>0.2</td>\n",
       "      <td>setosa</td>\n",
       "    </tr>\n",
       "    <tr>\n",
       "      <th>1</th>\n",
       "      <td>1</td>\n",
       "      <td>NaN</td>\n",
       "      <td>NaN</td>\n",
       "      <td>1.5</td>\n",
       "      <td>NaN</td>\n",
       "      <td>versicolor</td>\n",
       "    </tr>\n",
       "    <tr>\n",
       "      <th>2</th>\n",
       "      <td>2</td>\n",
       "      <td>NaN</td>\n",
       "      <td>NaN</td>\n",
       "      <td>NaN</td>\n",
       "      <td>NaN</td>\n",
       "      <td>virginica</td>\n",
       "    </tr>\n",
       "    <tr>\n",
       "      <th>3</th>\n",
       "      <td>3</td>\n",
       "      <td>NaN</td>\n",
       "      <td>NaN</td>\n",
       "      <td>NaN</td>\n",
       "      <td>NaN</td>\n",
       "      <td>NaN</td>\n",
       "    </tr>\n",
       "    <tr>\n",
       "      <th>4</th>\n",
       "      <td>4</td>\n",
       "      <td>NaN</td>\n",
       "      <td>NaN</td>\n",
       "      <td>NaN</td>\n",
       "      <td>NaN</td>\n",
       "      <td>NaN</td>\n",
       "    </tr>\n",
       "    <tr>\n",
       "      <th>...</th>\n",
       "      <td>...</td>\n",
       "      <td>...</td>\n",
       "      <td>...</td>\n",
       "      <td>...</td>\n",
       "      <td>...</td>\n",
       "      <td>...</td>\n",
       "    </tr>\n",
       "    <tr>\n",
       "      <th>145</th>\n",
       "      <td>145</td>\n",
       "      <td>NaN</td>\n",
       "      <td>NaN</td>\n",
       "      <td>NaN</td>\n",
       "      <td>NaN</td>\n",
       "      <td>NaN</td>\n",
       "    </tr>\n",
       "    <tr>\n",
       "      <th>146</th>\n",
       "      <td>146</td>\n",
       "      <td>NaN</td>\n",
       "      <td>NaN</td>\n",
       "      <td>NaN</td>\n",
       "      <td>NaN</td>\n",
       "      <td>NaN</td>\n",
       "    </tr>\n",
       "    <tr>\n",
       "      <th>147</th>\n",
       "      <td>147</td>\n",
       "      <td>NaN</td>\n",
       "      <td>NaN</td>\n",
       "      <td>NaN</td>\n",
       "      <td>NaN</td>\n",
       "      <td>NaN</td>\n",
       "    </tr>\n",
       "    <tr>\n",
       "      <th>148</th>\n",
       "      <td>148</td>\n",
       "      <td>NaN</td>\n",
       "      <td>NaN</td>\n",
       "      <td>NaN</td>\n",
       "      <td>NaN</td>\n",
       "      <td>NaN</td>\n",
       "    </tr>\n",
       "    <tr>\n",
       "      <th>149</th>\n",
       "      <td>149</td>\n",
       "      <td>NaN</td>\n",
       "      <td>NaN</td>\n",
       "      <td>NaN</td>\n",
       "      <td>NaN</td>\n",
       "      <td>NaN</td>\n",
       "    </tr>\n",
       "  </tbody>\n",
       "</table>\n",
       "<p>150 rows × 6 columns</p>\n",
       "</div>"
      ],
      "text/plain": [
       "     Unnamed: 0  sepal_length  sepal_width  petal_length  petal_width  \\\n",
       "0             0           5.0          3.0           1.4          0.2   \n",
       "1             1           NaN          NaN           1.5          NaN   \n",
       "2             2           NaN          NaN           NaN          NaN   \n",
       "3             3           NaN          NaN           NaN          NaN   \n",
       "4             4           NaN          NaN           NaN          NaN   \n",
       "..          ...           ...          ...           ...          ...   \n",
       "145         145           NaN          NaN           NaN          NaN   \n",
       "146         146           NaN          NaN           NaN          NaN   \n",
       "147         147           NaN          NaN           NaN          NaN   \n",
       "148         148           NaN          NaN           NaN          NaN   \n",
       "149         149           NaN          NaN           NaN          NaN   \n",
       "\n",
       "        species  \n",
       "0        setosa  \n",
       "1    versicolor  \n",
       "2     virginica  \n",
       "3           NaN  \n",
       "4           NaN  \n",
       "..          ...  \n",
       "145         NaN  \n",
       "146         NaN  \n",
       "147         NaN  \n",
       "148         NaN  \n",
       "149         NaN  \n",
       "\n",
       "[150 rows x 6 columns]"
      ]
     },
     "execution_count": 8,
     "metadata": {},
     "output_type": "execute_result"
    }
   ],
   "source": [
    "df.mode()"
   ]
  },
  {
   "cell_type": "markdown",
   "metadata": {},
   "source": [
    "### Measure of Dispersion\n",
    "\n",
    "- Variablity\n",
    "- Scatter\n",
    "- Spread\n",
    "- Variance\n",
    "- Co-variance\n",
    "\n",
    "How much is the data spread around the mean?\n",
    "\n",
    "- Standard deviation (std)\n",
    "- Standard error (se)\n",
    "- Variance\n",
    "- Bell Curve\n",
    "\n",
    "Dispersion is caused by the difference between minimum and maximum.\n",
    "\n",
    "\n"
   ]
  },
  {
   "cell_type": "code",
   "execution_count": 16,
   "metadata": {},
   "outputs": [
    {
     "data": {
      "text/plain": [
       "54.285714285714285"
      ]
     },
     "execution_count": 16,
     "metadata": {},
     "output_type": "execute_result"
    }
   ],
   "source": [
    "samosachai = pd.Series([5,10,15,25,30,35,45,55,65,75,85,95,105,115])\n",
    "samosachai.mean()"
   ]
  },
  {
   "cell_type": "code",
   "execution_count": 18,
   "metadata": {},
   "outputs": [
    {
     "data": {
      "text/plain": [
       "50.0"
      ]
     },
     "execution_count": 18,
     "metadata": {},
     "output_type": "execute_result"
    }
   ],
   "source": [
    "samosachai.median()"
   ]
  },
  {
   "cell_type": "code",
   "execution_count": 19,
   "metadata": {},
   "outputs": [
    {
     "data": {
      "text/plain": [
       "0       5\n",
       "1      10\n",
       "2      15\n",
       "3      25\n",
       "4      30\n",
       "5      35\n",
       "6      45\n",
       "7      55\n",
       "8      65\n",
       "9      75\n",
       "10     85\n",
       "11     95\n",
       "12    105\n",
       "13    115\n",
       "dtype: int64"
      ]
     },
     "execution_count": 19,
     "metadata": {},
     "output_type": "execute_result"
    }
   ],
   "source": [
    "samosachai.mode()"
   ]
  },
  {
   "cell_type": "code",
   "execution_count": 20,
   "metadata": {},
   "outputs": [
    {
     "data": {
      "text/plain": [
       "36.41941276810523"
      ]
     },
     "execution_count": 20,
     "metadata": {},
     "output_type": "execute_result"
    }
   ],
   "source": [
    "samosachai.std()"
   ]
  },
  {
   "cell_type": "code",
   "execution_count": 21,
   "metadata": {},
   "outputs": [
    {
     "data": {
      "text/plain": [
       "1326.3736263736262"
      ]
     },
     "execution_count": 21,
     "metadata": {},
     "output_type": "execute_result"
    }
   ],
   "source": [
    "samosachai.var()"
   ]
  },
  {
   "cell_type": "code",
   "execution_count": 23,
   "metadata": {},
   "outputs": [
    {
     "data": {
      "text/plain": [
       "115"
      ]
     },
     "execution_count": 23,
     "metadata": {},
     "output_type": "execute_result"
    }
   ],
   "source": [
    "samosachai.max()"
   ]
  },
  {
   "cell_type": "code",
   "execution_count": 24,
   "metadata": {},
   "outputs": [
    {
     "data": {
      "text/plain": [
       "5"
      ]
     },
     "execution_count": 24,
     "metadata": {},
     "output_type": "execute_result"
    }
   ],
   "source": [
    "samosachai.min()"
   ]
  },
  {
   "cell_type": "markdown",
   "metadata": {},
   "source": [
    "Mean gives us only a small picture and have very little meaning without the standard dispersion. Mean with SD is more useful than mean by itself. "
   ]
  },
  {
   "cell_type": "markdown",
   "metadata": {},
   "source": [
    "### Fundamentals of Data Visualisation\n",
    "Types of Visualisation depends on the type of data available.\n",
    "\n",
    "- Categorical Variable\n",
    "    \n",
    "    - Qualitative in nature\n",
    "    - No numerical meaning \n",
    "    - Counts (plot type)\n",
    "    - Male vs Female\n",
    "    - True vs False\n",
    "    - 0 vs 1\n",
    "    - Yes vs NO\n",
    "\n",
    "- Continous Variable\n",
    "    \n",
    "    - Quantitative in nature\n",
    "    - Have numerical meanings\n",
    "    - Scatter plot\n",
    "    - Statistical proportions (mean and their comparisons)\n"
   ]
  },
  {
   "cell_type": "markdown",
   "metadata": {},
   "source": [
    "### Choice of Charts\n",
    "\n",
    "![Choice of Chart](https://apandre.files.wordpress.com/2011/02/chartchooserincolor.jpg)"
   ]
  },
  {
   "cell_type": "markdown",
   "metadata": {},
   "source": [
    "![Data Visualisation](https://apandre.files.wordpress.com/2011/02/visualthinkingcodex.jpg)"
   ]
  },
  {
   "cell_type": "markdown",
   "metadata": {},
   "source": [
    "![image](https://cdn2.slidemodel.com/wp-content/uploads/FF00101-01-free-abelas-charts-16x9-1.jpg)"
   ]
  },
  {
   "cell_type": "markdown",
   "metadata": {},
   "source": [
    "![image](https://biuwer.com/static/e5700b9017bb1ec94651589e455a7774/e40ed/biuwer-how-to-choose-the-right-chart-for-your-data.png)"
   ]
  },
  {
   "cell_type": "markdown",
   "metadata": {},
   "source": []
  }
 ],
 "metadata": {
  "interpreter": {
   "hash": "ba2361067168afed1c079caf992ac24fc269719f1822f6a8ce7ddb7530c7c373"
  },
  "kernelspec": {
   "display_name": "Python 3.9.7 ('base')",
   "language": "python",
   "name": "python3"
  },
  "language_info": {
   "codemirror_mode": {
    "name": "ipython",
    "version": 3
   },
   "file_extension": ".py",
   "mimetype": "text/x-python",
   "name": "python",
   "nbconvert_exporter": "python",
   "pygments_lexer": "ipython3",
   "version": "3.9.7"
  },
  "orig_nbformat": 4
 },
 "nbformat": 4,
 "nbformat_minor": 2
}
