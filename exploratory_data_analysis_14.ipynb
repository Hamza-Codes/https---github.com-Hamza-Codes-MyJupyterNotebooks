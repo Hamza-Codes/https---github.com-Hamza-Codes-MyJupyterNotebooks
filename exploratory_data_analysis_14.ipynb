{
 "cells": [
  {
   "cell_type": "markdown",
   "metadata": {},
   "source": [
    "# <span style=\"color:#79B791\"> 1. Exploratory Data Analysis (EDA) </span>\n",
    "## <span style=\"color:#79B791\">     - How to choose a statistical model? </span>"
   ]
  },
  {
   "cell_type": "code",
   "execution_count": null,
   "metadata": {},
   "outputs": [],
   "source": []
  }
 ],
 "metadata": {
  "language_info": {
   "name": "python"
  },
  "orig_nbformat": 4
 },
 "nbformat": 4,
 "nbformat_minor": 2
}
