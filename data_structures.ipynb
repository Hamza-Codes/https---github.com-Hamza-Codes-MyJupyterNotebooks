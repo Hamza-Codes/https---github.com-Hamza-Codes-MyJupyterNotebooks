{
 "cells": [
  {
   "cell_type": "markdown",
   "id": "a5f3de22-92c1-4a90-91b4-a89fb2941acf",
   "metadata": {},
   "source": [
    "### Tuples"
   ]
  },
  {
   "cell_type": "code",
   "execution_count": 4,
   "id": "f6c49b9c-a647-448d-8dbd-235816bc4d65",
   "metadata": {},
   "outputs": [
    {
     "data": {
      "text/plain": [
       "(1, 'Python', 2.5, True)"
      ]
     },
     "execution_count": 4,
     "metadata": {},
     "output_type": "execute_result"
    }
   ],
   "source": [
    "tup = (1, \"Python\", 2.5, True)\n",
    "tup"
   ]
  },
  {
   "cell_type": "code",
   "execution_count": 8,
   "id": "2f565632-71fc-4c68-a7f2-0afb4897d474",
   "metadata": {},
   "outputs": [
    {
     "data": {
      "text/plain": [
       "(2, 'Hamza', 3.5, False)"
      ]
     },
     "execution_count": 8,
     "metadata": {},
     "output_type": "execute_result"
    }
   ],
   "source": [
    "tup1 = (2, \"Hamza\", 3.5, False)\n",
    "tup1"
   ]
  },
  {
   "cell_type": "code",
   "execution_count": 9,
   "id": "8dcdcca8-828f-4620-98d3-35762a5f57e7",
   "metadata": {},
   "outputs": [
    {
     "data": {
      "text/plain": [
       "(1, 'Python', 2.5, True, 2, 'Hamza', 3.5, False)"
      ]
     },
     "execution_count": 9,
     "metadata": {},
     "output_type": "execute_result"
    }
   ],
   "source": [
    "tup + tup1"
   ]
  },
  {
   "cell_type": "markdown",
   "id": "94675519-64f5-41ad-b191-60a71e6d0d92",
   "metadata": {
    "tags": []
   },
   "source": [
    "---"
   ]
  },
  {
   "cell_type": "markdown",
   "id": "f583ac3a-a0cf-45f9-ad8a-b44ca61d0aff",
   "metadata": {
    "tags": []
   },
   "source": [
    "### Lists"
   ]
  },
  {
   "cell_type": "code",
   "execution_count": 11,
   "id": "9b0d4a24-6be1-4d6a-ba50-b7f198517c7d",
   "metadata": {},
   "outputs": [
    {
     "data": {
      "text/plain": [
       "[9, 8, 7, 6, 5, 4, 3, 2, 1]"
      ]
     },
     "execution_count": 11,
     "metadata": {},
     "output_type": "execute_result"
    }
   ],
   "source": [
    "list_1 = [9,8,7,6,5,4,3,2,1]\n",
    "list_1"
   ]
  },
  {
   "cell_type": "code",
   "execution_count": 12,
   "id": "169e5174-6771-4dd3-b3b0-5c5dd37c21fc",
   "metadata": {},
   "outputs": [
    {
     "data": {
      "text/plain": [
       "[2, 'Hamza', 3.5, False]"
      ]
     },
     "execution_count": 12,
     "metadata": {},
     "output_type": "execute_result"
    }
   ],
   "source": [
    "list_2 = [2, \"Hamza\", 3.5, False]\n",
    "list_2"
   ]
  },
  {
   "cell_type": "code",
   "execution_count": 16,
   "id": "b56143fe-a368-4214-9cae-17cbe1488433",
   "metadata": {},
   "outputs": [
    {
     "data": {
      "text/plain": [
       "[1, 2, 3, 4, 5, 6, 7, 8, 9]"
      ]
     },
     "execution_count": 16,
     "metadata": {},
     "output_type": "execute_result"
    }
   ],
   "source": [
    "list_1.reverse()\n",
    "list_1"
   ]
  },
  {
   "cell_type": "markdown",
   "id": "6a4078d3-89ca-4b5d-b8ea-7317c568c942",
   "metadata": {},
   "source": [
    "---"
   ]
  },
  {
   "cell_type": "markdown",
   "id": "ec0ea690-b589-435b-852f-00984d8c8111",
   "metadata": {},
   "source": [
    "### Dictionaries "
   ]
  },
  {
   "cell_type": "code",
   "execution_count": 18,
   "id": "4bef4873-ef38-455e-b788-bd41ca3d12e6",
   "metadata": {},
   "outputs": [
    {
     "data": {
      "text/plain": [
       "{'Samosa': 40, 'Pakora': 30, 'Chat': 10, 'Dahi': 10}"
      ]
     },
     "execution_count": 18,
     "metadata": {},
     "output_type": "execute_result"
    }
   ],
   "source": [
    "d1 = {\"Samosa\":40, \"Pakora\":30, \"Chat\":10, \"Dahi\":10}\n",
    "d1"
   ]
  },
  {
   "cell_type": "code",
   "execution_count": 21,
   "id": "74e4d10a-649a-42be-bc60-f3ad6c00b939",
   "metadata": {},
   "outputs": [
    {
     "data": {
      "text/plain": [
       "{'Samosa': 40, 'Pakora': 30, 'Chat': 10, 'Dahi': 10}"
      ]
     },
     "execution_count": 21,
     "metadata": {},
     "output_type": "execute_result"
    }
   ],
   "source": [
    "d1 = {'Samosa':40, \"Pakora\":30, \"Chat\":10, \"Dahi\":10}\n",
    "d1"
   ]
  },
  {
   "cell_type": "code",
   "execution_count": 24,
   "id": "ae6390a0-712a-49ca-96e5-976f27a2df27",
   "metadata": {},
   "outputs": [
    {
     "data": {
      "text/plain": [
       "dict_keys(['Samosa', 'Pakora', 'Chat', 'Dahi'])"
      ]
     },
     "execution_count": 24,
     "metadata": {},
     "output_type": "execute_result"
    }
   ],
   "source": [
    "keys = d1.keys()\n",
    "keys"
   ]
  },
  {
   "cell_type": "code",
   "execution_count": 25,
   "id": "271e7dff-36af-424c-8ffc-f193abad7083",
   "metadata": {},
   "outputs": [
    {
     "data": {
      "text/plain": [
       "dict_values([40, 30, 10, 10])"
      ]
     },
     "execution_count": 25,
     "metadata": {},
     "output_type": "execute_result"
    }
   ],
   "source": [
    "values = d1.values()\n",
    "values"
   ]
  },
  {
   "cell_type": "code",
   "execution_count": 32,
   "id": "bf3315b7-a6f2-44fa-83f3-617ae4ca95e8",
   "metadata": {},
   "outputs": [
    {
     "data": {
      "text/plain": [
       "{'Samosa': 40, 'Pakora': 30, 'Chat': 10, 'Dahi': 10, 'Tikki': 20}"
      ]
     },
     "execution_count": 32,
     "metadata": {},
     "output_type": "execute_result"
    }
   ],
   "source": [
    "d1.update({'Tikki': 20})\n",
    "d1"
   ]
  },
  {
   "cell_type": "code",
   "execution_count": 33,
   "id": "1c1b8219-f616-4c57-b819-9a548ca5fd6c",
   "metadata": {},
   "outputs": [
    {
     "data": {
      "text/plain": [
       "{'Samosa': 12, 'Pakora': 30, 'Chat': 10, 'Dahi': 10, 'Tikki': 20}"
      ]
     },
     "execution_count": 33,
     "metadata": {},
     "output_type": "execute_result"
    }
   ],
   "source": [
    "d1[\"Samosa\"]= 12\n",
    "d1"
   ]
  },
  {
   "cell_type": "code",
   "execution_count": 34,
   "id": "80439b9b-4e43-4614-b0de-4c126a222b09",
   "metadata": {},
   "outputs": [
    {
     "data": {
      "text/plain": [
       "dict_items([('Samosa', 12), ('Pakora', 30), ('Chat', 10), ('Dahi', 10), ('Tikki', 20)])"
      ]
     },
     "execution_count": 34,
     "metadata": {},
     "output_type": "execute_result"
    }
   ],
   "source": [
    "items = d1.items()\n",
    "items"
   ]
  },
  {
   "cell_type": "code",
   "execution_count": 35,
   "id": "387498e7-b582-4cf0-9fa7-d3246a607fe0",
   "metadata": {},
   "outputs": [
    {
     "data": {
      "text/plain": [
       "{'Burger': 25, 'Fruit': 45}"
      ]
     },
     "execution_count": 35,
     "metadata": {},
     "output_type": "execute_result"
    }
   ],
   "source": [
    "d2 = {\"Burger\":25,\"Fruit\":45}\n",
    "d2"
   ]
  },
  {
   "cell_type": "code",
   "execution_count": 36,
   "id": "d442ccff-9aa0-4c47-8027-eb3649f59dc7",
   "metadata": {},
   "outputs": [
    {
     "data": {
      "text/plain": [
       "{'Samosa': 12,\n",
       " 'Pakora': 30,\n",
       " 'Chat': 10,\n",
       " 'Dahi': 10,\n",
       " 'Tikki': 20,\n",
       " 'Burger': 25,\n",
       " 'Fruit': 45}"
      ]
     },
     "execution_count": 36,
     "metadata": {},
     "output_type": "execute_result"
    }
   ],
   "source": [
    "d1.update(d2)\n",
    "d1"
   ]
  },
  {
   "cell_type": "code",
   "execution_count": 37,
   "id": "9f568762-ae97-44d1-ab8e-c3461b5cf299",
   "metadata": {},
   "outputs": [
    {
     "data": {
      "text/plain": [
       "{'Samosa': 12,\n",
       " 'Pakora': 30,\n",
       " 'Chat': 10,\n",
       " 'Dahi': 10,\n",
       " 'Tikki': 20,\n",
       " 'Burger': 25,\n",
       " 'Fruit': 45,\n",
       " 'Pepsi': 20}"
      ]
     },
     "execution_count": 37,
     "metadata": {},
     "output_type": "execute_result"
    }
   ],
   "source": [
    "d1.update({\"Pepsi\":20})\n",
    "d1"
   ]
  },
  {
   "cell_type": "markdown",
   "id": "fa68e236-d924-47e2-8d5c-c15cb90eb420",
   "metadata": {},
   "source": [
    "---"
   ]
  },
  {
   "cell_type": "markdown",
   "id": "5ca22858-50a9-4bbf-bca8-261ff8d19878",
   "metadata": {},
   "source": [
    "### Sets"
   ]
  },
  {
   "cell_type": "code",
   "execution_count": 38,
   "id": "f8793410-a098-4275-bedd-50a51a1918ee",
   "metadata": {},
   "outputs": [
    {
     "data": {
      "text/plain": [
       "{21.2, 'Hamza', True}"
      ]
     },
     "execution_count": 38,
     "metadata": {},
     "output_type": "execute_result"
    }
   ],
   "source": [
    "s1 = {\"Hamza\", 21.2, True}\n",
    "s1"
   ]
  },
  {
   "cell_type": "code",
   "execution_count": 41,
   "id": "97c9ae60-427a-48df-85c7-9d85ddc8e35b",
   "metadata": {},
   "outputs": [
    {
     "data": {
      "text/plain": [
       "{2.22, 21.2, 'Hamza', True}"
      ]
     },
     "execution_count": 41,
     "metadata": {},
     "output_type": "execute_result"
    }
   ],
   "source": [
    "s1.add(2.22)\n",
    "s1"
   ]
  },
  {
   "cell_type": "code",
   "execution_count": 42,
   "id": "4c6a6d41-1121-4c04-8d15-356877cb361a",
   "metadata": {},
   "outputs": [
    {
     "data": {
      "text/plain": [
       "set()"
      ]
     },
     "execution_count": 42,
     "metadata": {},
     "output_type": "execute_result"
    }
   ],
   "source": [
    "s1.clear()\n",
    "s1"
   ]
  }
 ],
 "metadata": {
  "kernelspec": {
   "display_name": "Python 3 (ipykernel)",
   "language": "python",
   "name": "python3"
  },
  "language_info": {
   "codemirror_mode": {
    "name": "ipython",
    "version": 3
   },
   "file_extension": ".py",
   "mimetype": "text/x-python",
   "name": "python",
   "nbconvert_exporter": "python",
   "pygments_lexer": "ipython3",
   "version": "3.9.7"
  }
 },
 "nbformat": 4,
 "nbformat_minor": 5
}
