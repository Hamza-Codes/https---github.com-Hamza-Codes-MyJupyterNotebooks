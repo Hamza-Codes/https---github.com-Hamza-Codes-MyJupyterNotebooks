{
 "cells": [
  {
   "cell_type": "code",
   "execution_count": 8,
   "metadata": {},
   "outputs": [
    {
     "data": {
      "text/html": [
       "<div>\n",
       "<style scoped>\n",
       "    .dataframe tbody tr th:only-of-type {\n",
       "        vertical-align: middle;\n",
       "    }\n",
       "\n",
       "    .dataframe tbody tr th {\n",
       "        vertical-align: top;\n",
       "    }\n",
       "\n",
       "    .dataframe thead th {\n",
       "        text-align: right;\n",
       "    }\n",
       "</style>\n",
       "<table border=\"1\" class=\"dataframe\">\n",
       "  <thead>\n",
       "    <tr style=\"text-align: right;\">\n",
       "      <th></th>\n",
       "      <th>Domain Code</th>\n",
       "      <th>Domain</th>\n",
       "      <th>Area Code</th>\n",
       "      <th>Area</th>\n",
       "      <th>Element Code</th>\n",
       "      <th>Element</th>\n",
       "      <th>Item Code</th>\n",
       "      <th>Item</th>\n",
       "      <th>Year Code</th>\n",
       "      <th>Year</th>\n",
       "      <th>Unit</th>\n",
       "      <th>Value</th>\n",
       "      <th>Flag</th>\n",
       "      <th>Flag Description</th>\n",
       "      <th>Note</th>\n",
       "    </tr>\n",
       "  </thead>\n",
       "  <tbody>\n",
       "    <tr>\n",
       "      <th>0</th>\n",
       "      <td>FS</td>\n",
       "      <td>Suite of Food Security Indicators</td>\n",
       "      <td>165</td>\n",
       "      <td>Pakistan</td>\n",
       "      <td>6125</td>\n",
       "      <td>Value</td>\n",
       "      <td>21032</td>\n",
       "      <td>Political stability and absence of violence/te...</td>\n",
       "      <td>2000</td>\n",
       "      <td>2000</td>\n",
       "      <td>index</td>\n",
       "      <td>-1.10</td>\n",
       "      <td>X</td>\n",
       "      <td>International reliable sources</td>\n",
       "      <td>NaN</td>\n",
       "    </tr>\n",
       "    <tr>\n",
       "      <th>1</th>\n",
       "      <td>FS</td>\n",
       "      <td>Suite of Food Security Indicators</td>\n",
       "      <td>165</td>\n",
       "      <td>Pakistan</td>\n",
       "      <td>6125</td>\n",
       "      <td>Value</td>\n",
       "      <td>21032</td>\n",
       "      <td>Political stability and absence of violence/te...</td>\n",
       "      <td>2002</td>\n",
       "      <td>2002</td>\n",
       "      <td>index</td>\n",
       "      <td>-1.64</td>\n",
       "      <td>X</td>\n",
       "      <td>International reliable sources</td>\n",
       "      <td>NaN</td>\n",
       "    </tr>\n",
       "    <tr>\n",
       "      <th>2</th>\n",
       "      <td>FS</td>\n",
       "      <td>Suite of Food Security Indicators</td>\n",
       "      <td>165</td>\n",
       "      <td>Pakistan</td>\n",
       "      <td>6125</td>\n",
       "      <td>Value</td>\n",
       "      <td>21032</td>\n",
       "      <td>Political stability and absence of violence/te...</td>\n",
       "      <td>2003</td>\n",
       "      <td>2003</td>\n",
       "      <td>index</td>\n",
       "      <td>-1.55</td>\n",
       "      <td>X</td>\n",
       "      <td>International reliable sources</td>\n",
       "      <td>NaN</td>\n",
       "    </tr>\n",
       "    <tr>\n",
       "      <th>3</th>\n",
       "      <td>FS</td>\n",
       "      <td>Suite of Food Security Indicators</td>\n",
       "      <td>165</td>\n",
       "      <td>Pakistan</td>\n",
       "      <td>6125</td>\n",
       "      <td>Value</td>\n",
       "      <td>21032</td>\n",
       "      <td>Political stability and absence of violence/te...</td>\n",
       "      <td>2004</td>\n",
       "      <td>2004</td>\n",
       "      <td>index</td>\n",
       "      <td>-1.58</td>\n",
       "      <td>X</td>\n",
       "      <td>International reliable sources</td>\n",
       "      <td>NaN</td>\n",
       "    </tr>\n",
       "    <tr>\n",
       "      <th>4</th>\n",
       "      <td>FS</td>\n",
       "      <td>Suite of Food Security Indicators</td>\n",
       "      <td>165</td>\n",
       "      <td>Pakistan</td>\n",
       "      <td>6125</td>\n",
       "      <td>Value</td>\n",
       "      <td>21032</td>\n",
       "      <td>Political stability and absence of violence/te...</td>\n",
       "      <td>2005</td>\n",
       "      <td>2005</td>\n",
       "      <td>index</td>\n",
       "      <td>-1.75</td>\n",
       "      <td>X</td>\n",
       "      <td>International reliable sources</td>\n",
       "      <td>NaN</td>\n",
       "    </tr>\n",
       "  </tbody>\n",
       "</table>\n",
       "</div>"
      ],
      "text/plain": [
       "  Domain Code                             Domain  Area Code      Area  \\\n",
       "0          FS  Suite of Food Security Indicators        165  Pakistan   \n",
       "1          FS  Suite of Food Security Indicators        165  Pakistan   \n",
       "2          FS  Suite of Food Security Indicators        165  Pakistan   \n",
       "3          FS  Suite of Food Security Indicators        165  Pakistan   \n",
       "4          FS  Suite of Food Security Indicators        165  Pakistan   \n",
       "\n",
       "   Element Code Element  Item Code  \\\n",
       "0          6125   Value      21032   \n",
       "1          6125   Value      21032   \n",
       "2          6125   Value      21032   \n",
       "3          6125   Value      21032   \n",
       "4          6125   Value      21032   \n",
       "\n",
       "                                                Item  Year Code  Year   Unit  \\\n",
       "0  Political stability and absence of violence/te...       2000  2000  index   \n",
       "1  Political stability and absence of violence/te...       2002  2002  index   \n",
       "2  Political stability and absence of violence/te...       2003  2003  index   \n",
       "3  Political stability and absence of violence/te...       2004  2004  index   \n",
       "4  Political stability and absence of violence/te...       2005  2005  index   \n",
       "\n",
       "   Value Flag                Flag Description  Note  \n",
       "0  -1.10    X  International reliable sources   NaN  \n",
       "1  -1.64    X  International reliable sources   NaN  \n",
       "2  -1.55    X  International reliable sources   NaN  \n",
       "3  -1.58    X  International reliable sources   NaN  \n",
       "4  -1.75    X  International reliable sources   NaN  "
      ]
     },
     "execution_count": 8,
     "metadata": {},
     "output_type": "execute_result"
    }
   ],
   "source": [
    "import seaborn as sns\n",
    "import numpy as np\n",
    "import matplotlib.pyplot as plt\n",
    "import pandas as pd\n",
    "\n",
    "pol_stab = pd.read_csv(\"Pol Stab.csv\")\n",
    "pol_stab.head()\n"
   ]
  },
  {
   "cell_type": "code",
   "execution_count": 23,
   "metadata": {},
   "outputs": [
    {
     "data": {
      "image/png": "[encoded data removed]",
      "text/plain": [
       "<Figure size 432x288 with 1 Axes>"
      ]
     },
     "metadata": {},
     "output_type": "display_data"
    }
   ],
   "source": [
    "sns.lineplot(x=\"Year\", y=\"Value\", data=pol_stab)\n",
    "plt.title(\"Political stability and absence of violence/terrorism (index)\")\n",
    "sns.set_style(\"whitegrid\")\n",
    "plt.show()"
   ]
  },
  {
   "cell_type": "code",
   "execution_count": 25,
   "metadata": {},
   "outputs": [
    {
     "data": {
      "image/png": "[encoded data removed]",
      "text/plain": [
       "<Figure size 432x288 with 1 Axes>"
      ]
     },
     "metadata": {},
     "output_type": "display_data"
    }
   ],
   "source": [
    "sns.boxplot(x=\"Year\",y=\"Value\", data=pol_stab)\n",
    "sns.despine(offset=10, trim=True)"
   ]
  },
  {
   "cell_type": "code",
   "execution_count": null,
   "metadata": {},
   "outputs": [],
   "source": []
  }
 ],
 "metadata": {
  "interpreter": {
   "hash": "ba2361067168afed1c079caf992ac24fc269719f1822f6a8ce7ddb7530c7c373"
  },
  "kernelspec": {
   "display_name": "Python 3.9.7 ('base')",
   "language": "python",
   "name": "python3"
  },
  "language_info": {
   "name": "python",
   "version": "3.9.7"
  },
  "orig_nbformat": 4
 },
 "nbformat": 4,
 "nbformat_minor": 2
}
